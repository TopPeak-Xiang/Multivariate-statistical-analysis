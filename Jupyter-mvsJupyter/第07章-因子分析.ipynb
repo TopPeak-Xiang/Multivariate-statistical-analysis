{
 "cells": [
  {
   "cell_type": "markdown",
   "metadata": {},
   "source": [
    "# 第7章 因子分析及Python应用"
   ]
  },
  {
   "cell_type": "code",
   "execution_count": null,
   "metadata": {},
   "outputs": [],
   "source": [
    "#%cd \"E:/应统电子书讲义/多元python\""
   ]
  },
  {
   "cell_type": "code",
   "execution_count": null,
   "metadata": {},
   "outputs": [],
   "source": [
    "#输出初始化设置\n",
    "import pandas as pd                        #加载数据分析包\n",
    "pd.set_option('display.precision',4)       #设置数据框输出精度\n",
    "pd.set_option('display.max_rows',14)       #显示数据框最大行数\n",
    "from pandas import DataFrame as DF         #设置数据框别名"
   ]
  },
  {
   "cell_type": "markdown",
   "metadata": {},
   "source": [
    "## 7.1 因子分析模型"
   ]
  },
  {
   "cell_type": "markdown",
   "metadata": {},
   "source": [
    "### 7.1.1 因子概念的提出"
   ]
  },
  {
   "cell_type": "markdown",
   "metadata": {},
   "source": [
    "### 7.1.2 因子分析的用途"
   ]
  },
  {
   "cell_type": "markdown",
   "metadata": {},
   "source": [
    "### 7.1.3 因子模型的提出"
   ]
  },
  {
   "cell_type": "code",
   "execution_count": null,
   "metadata": {},
   "outputs": [],
   "source": [
    "d71=pd.read_excel('mvsData.xlsx','d71',index_col=0)\n",
    "print(d71)"
   ]
  },
  {
   "cell_type": "code",
   "execution_count": null,
   "metadata": {},
   "outputs": [],
   "source": [
    "d71.corr()                              #计算相关阵"
   ]
  },
  {
   "cell_type": "markdown",
   "metadata": {},
   "source": [
    "## 7.2 因子载荷及解释"
   ]
  },
  {
   "cell_type": "code",
   "execution_count": null,
   "metadata": {},
   "outputs": [],
   "source": [
    "#!pip install factor_analyzer"
   ]
  },
  {
   "cell_type": "markdown",
   "metadata": {},
   "source": [
    "### 7.2.1 主因子估计法"
   ]
  },
  {
   "cell_type": "code",
   "execution_count": null,
   "metadata": {},
   "outputs": [],
   "source": [
    "#def FA_disp(fa,Indexs):  #显示因子信息\n",
    "#    Columns=['F'+str(i) for i in range(1,fa.n_factors+1)]    \n",
    "#    return pd.DataFrame(fa.loadings_,Indexs,Columns)      "
   ]
  },
  {
   "cell_type": "code",
   "execution_count": null,
   "metadata": {
    "scrolled": true
   },
   "outputs": [],
   "source": [
    "#显示因子名称\n",
    "def Factors(fa):return ['F'+str(i) for i in range(1,fa.n_factors+1)]    "
   ]
  },
  {
   "cell_type": "code",
   "execution_count": null,
   "metadata": {
    "scrolled": true
   },
   "outputs": [],
   "source": [
    "from factor_analyzer import FactorAnalyzer as FA\n",
    "Fp=FA(n_factors=6,method='principal',rotation=None).fit(d71.values) #拟合6个主因子\n",
    "DF(Fp.loadings_,d71.columns,Factors(Fp)) #显示因子载荷"
   ]
  },
  {
   "cell_type": "code",
   "execution_count": null,
   "metadata": {},
   "outputs": [],
   "source": [
    "Fp1=FA(n_factors=3,method='principal',rotation=None).fit(d71.values) #取前3个主因子\n",
    "Fp1_load=DF(Fp1.loadings_,d71.columns,Factors(Fp1))  #定义因子载荷阵\n",
    "Fp1_load"
   ]
  },
  {
   "cell_type": "markdown",
   "metadata": {},
   "source": [
    "### 7.2.2 极大似然估计法"
   ]
  },
  {
   "cell_type": "code",
   "execution_count": null,
   "metadata": {},
   "outputs": [],
   "source": [
    "Fm=FA(n_factors=6,method='ml',rotation=None).fit(d71.values) #取前6个主因子\n",
    "DF(Fm.loadings_,d71.columns,Factors(Fm)) "
   ]
  },
  {
   "cell_type": "code",
   "execution_count": null,
   "metadata": {},
   "outputs": [],
   "source": [
    "Fm1=FA(n_factors=3,method='ml',rotation=None).fit(d71.values)\n",
    "Fm1_load=DF(Fm1.loadings_,d71.columns,Factors(Fm1)) \n",
    "Fm1_load"
   ]
  },
  {
   "cell_type": "markdown",
   "metadata": {},
   "source": [
    "### 7.2.3 因子载荷的意义"
   ]
  },
  {
   "cell_type": "code",
   "execution_count": null,
   "metadata": {},
   "outputs": [],
   "source": [
    "Vars=['方差','贡献率','累计贡献率']\n",
    "Fp1_Vars=DF(Fp1.get_factor_variance(),Vars,Factors(Fp1))\n",
    "Fp1_Vars #主因子法方差贡献 "
   ]
  },
  {
   "cell_type": "code",
   "execution_count": null,
   "metadata": {},
   "outputs": [],
   "source": [
    "Fm1_Vars=DF(Fm1.get_factor_variance(),Vars,Factors(Fm1))\n",
    "Fm1_Vars #极大似然法方差贡献 "
   ]
  },
  {
   "cell_type": "code",
   "execution_count": null,
   "metadata": {},
   "outputs": [],
   "source": [
    "#主因子法共同度，uniquenesses（不一致性）\n",
    "Fp1_load['共同度']=1-Fp1.get_uniquenesses()\n",
    "print(Fp1_load)"
   ]
  },
  {
   "cell_type": "code",
   "execution_count": null,
   "metadata": {},
   "outputs": [],
   "source": [
    "#极大似然法共同度，uniquenesses（不一致性）\n",
    "Fm1_load['共同度']=1-Fm1.get_uniquenesses()\n",
    "print(Fm1_load)"
   ]
  },
  {
   "cell_type": "markdown",
   "metadata": {},
   "source": [
    "## 7.3 因子旋转"
   ]
  },
  {
   "cell_type": "markdown",
   "metadata": {},
   "source": [
    "### 7.3.1 因子旋转方法"
   ]
  },
  {
   "cell_type": "markdown",
   "metadata": {},
   "source": [
    "### 7.3.2 如何进行旋转"
   ]
  },
  {
   "cell_type": "code",
   "execution_count": null,
   "metadata": {},
   "outputs": [],
   "source": [
    "Fp2=FA(3,method='principal',rotation='varimax').fit(d71.values) #varimax旋转\n",
    "Fp2_Vars=DF(Fp2.get_factor_variance(),Vars,Factors(Fp2))\n",
    "Fp2_Vars"
   ]
  },
  {
   "cell_type": "code",
   "execution_count": null,
   "metadata": {},
   "outputs": [],
   "source": [
    "Fp2_load=DF(Fp2.loadings_,d71.columns,Factors(Fp2))  \n",
    "Fp2_load  #旋转前因子载荷"
   ]
  },
  {
   "cell_type": "code",
   "execution_count": null,
   "metadata": {},
   "outputs": [],
   "source": [
    "Fp2_load['共同度']=1-Fp2.get_uniquenesses()\n",
    "print(Fp2_load)  #旋转后因子载荷及共同度"
   ]
  },
  {
   "cell_type": "markdown",
   "metadata": {},
   "source": [
    "## 7.4 因子得分"
   ]
  },
  {
   "cell_type": "markdown",
   "metadata": {},
   "source": [
    "### 7.4.1 因子得分的计算"
   ]
  },
  {
   "cell_type": "code",
   "execution_count": null,
   "metadata": {},
   "outputs": [],
   "source": [
    "#pd.set_option('display.max_rows',15) #设置最大显示行数\n",
    "Fp1_scores=DF(Fp1.transform(d71.values),d71.index,Factors(Fp1))\n",
    "print(Fp1_scores)   #旋转前因子得分"
   ]
  },
  {
   "cell_type": "code",
   "execution_count": null,
   "metadata": {},
   "outputs": [],
   "source": [
    "#旋转后因子得分\n",
    "Fp2_scores=DF(Fp2.transform(d71.values),d71.index,Factors(Fp2))\n",
    "print(Fp2_scores)"
   ]
  },
  {
   "cell_type": "markdown",
   "metadata": {},
   "source": [
    "### 7.4.2 因子得分信息图"
   ]
  },
  {
   "cell_type": "code",
   "execution_count": null,
   "metadata": {},
   "outputs": [],
   "source": [
    "import matplotlib.pyplot as plt            \n",
    "plt.rcParams['font.sans-serif']=['SimHei'];  #中文黑体SimHei\n",
    "plt.rcParams['axes.unicode_minus']=False; #正常显示图中正负号\n",
    "def Scoreplot(Scores): #自定得分图绘制函数\n",
    "    plt.plot(Scores.iloc[:,0],Scores.iloc[:,1],'*'); \n",
    "    plt.xlabel(Scores.columns[0]);plt.ylabel(Scores.columns[1])\n",
    "    plt.axhline(y=0,ls=':');plt.axvline(x=0,ls=':')\n",
    "    for i in range(len(Scores)):\n",
    "        plt.text(Scores.iloc[i,0],Scores.iloc[i,1],Scores.index[i])"
   ]
  },
  {
   "cell_type": "code",
   "execution_count": null,
   "metadata": {},
   "outputs": [],
   "source": [
    "#自定得分图绘制函数，见第6章6.3.2节\n",
    "Scoreplot(Fp2_scores[['F1','F2']]) "
   ]
  },
  {
   "cell_type": "code",
   "execution_count": null,
   "metadata": {},
   "outputs": [],
   "source": [
    "Scoreplot(Fp2_scores[['F1','F3']])"
   ]
  },
  {
   "cell_type": "code",
   "execution_count": null,
   "metadata": {},
   "outputs": [],
   "source": [
    "Scoreplot(Fp2_scores[['F2','F3']])"
   ]
  },
  {
   "cell_type": "code",
   "execution_count": null,
   "metadata": {},
   "outputs": [],
   "source": [
    "def Biplot(Load,Score): #双向因子信息重叠图\n",
    "    Scoreplot(Score)\n",
    "    for i in range(Load.shape[0]):\n",
    "        plt.arrow(0,0,Load.iloc[i,0],Load.iloc[i,1],color='r')\n",
    "        plt.text(Load.iloc[i,0],Load.iloc[i,1],Load.index[i],color='b')"
   ]
  },
  {
   "cell_type": "code",
   "execution_count": null,
   "metadata": {},
   "outputs": [],
   "source": [
    "Biplot(Fp2_load,Fp2_scores)"
   ]
  },
  {
   "cell_type": "markdown",
   "metadata": {},
   "source": [
    "### 7.4.3 综合得分及排名"
   ]
  },
  {
   "cell_type": "code",
   "execution_count": null,
   "metadata": {},
   "outputs": [],
   "source": [
    "def FArank(Vars,Scores): #计算综合因子得分与排名\n",
    "    Vi=Vars.values[0]\n",
    "    Wi=Vi/sum(Vi);Wi\n",
    "    Fi=Scores.dot(Wi)\n",
    "    Ri=Fi.rank(ascending=False).astype(int);\n",
    "    return(pd.DataFrame({'因子得分':Fi,'因子排名':Ri}))"
   ]
  },
  {
   "cell_type": "code",
   "execution_count": null,
   "metadata": {},
   "outputs": [],
   "source": [
    "print(FArank(Fp1_Vars,Fp1_scores))"
   ]
  },
  {
   "cell_type": "code",
   "execution_count": null,
   "metadata": {},
   "outputs": [],
   "source": [
    "print(FArank(Fp2_Vars,Fp2_scores))"
   ]
  },
  {
   "cell_type": "markdown",
   "metadata": {},
   "source": [
    "## 7.5 因子分析步骤"
   ]
  },
  {
   "cell_type": "markdown",
   "metadata": {},
   "source": [
    "### 7.5.1 因子分析的准备工作"
   ]
  },
  {
   "cell_type": "markdown",
   "metadata": {},
   "source": [
    "（1）简单相关分析"
   ]
  },
  {
   "cell_type": "code",
   "execution_count": null,
   "metadata": {},
   "outputs": [],
   "source": [
    "d31=pd.read_excel('mvsData.xlsx','d31',index_col=0)\n",
    "print(d31.corr())                  #计算相关阵"
   ]
  },
  {
   "cell_type": "markdown",
   "metadata": {},
   "source": [
    "（2）KMO统计量"
   ]
  },
  {
   "cell_type": "code",
   "execution_count": null,
   "metadata": {},
   "outputs": [],
   "source": [
    "import factor_analyzer as fa\n",
    "kmo=fa.calculate_kmo(d31) #计算KMO\n",
    "print('KMO: %5.4f'%kmo[1])"
   ]
  },
  {
   "cell_type": "markdown",
   "metadata": {},
   "source": [
    "（3）Bartlett's球状检验"
   ]
  },
  {
   "cell_type": "code",
   "execution_count": null,
   "metadata": {},
   "outputs": [],
   "source": [
    "chisq=fa.calculate_bartlett_sphericity(d31) #进行bartlett检验\n",
    "print('卡方值 = %8.4f, p值 = %5.4f'%(chisq[0],chisq[1]))"
   ]
  },
  {
   "cell_type": "markdown",
   "metadata": {},
   "source": [
    "### 7.5.2 因子分析的过程"
   ]
  },
  {
   "cell_type": "code",
   "execution_count": null,
   "metadata": {},
   "outputs": [],
   "source": [
    "def FAscores(X,m=2,rot='varimax'): #因子分析综合评价函数\n",
    "    import factor_analyzer as fa\n",
    "    kmo=fa.calculate_kmo(X) \n",
    "    chisq=fa.calculate_bartlett_sphericity(X) #进行bartlett检验\n",
    "    print('KMO检验: KMO值=%6.4f 卡方值=%8.4f, p值=%5.4f'%(kmo[1],chisq[0],chisq[1]))\n",
    "    from factor_analyzer import FactorAnalyzer as FA\n",
    "    Fp=FA(n_factors=m,method='principal',rotation=rot).fit(X.values)\n",
    "    vars=Fp.get_factor_variance()\n",
    "    Factor=['F%d' %(i+1) for i in range(m)]\n",
    "    Vars=pd.DataFrame(vars,['方差','贡献率','累计贡献率'],Factor)\n",
    "    print(\"\\n方差贡献:\\n\",Vars)\n",
    "    Load=pd.DataFrame(Fp.loadings_,X.columns,Factor) \n",
    "    Load['共同度']=1-Fp.get_uniquenesses()\n",
    "    print(\"\\n因子载荷:\\n\",Load)\n",
    "    Scores=pd.DataFrame(Fp.transform(X.values),X.index,Factor)    \n",
    "    print(\"\\n因子得分:\\n\",Scores)\n",
    "    Vi=vars[0]\n",
    "    Wi=Vi/sum(Vi);Wi\n",
    "    Fi=Scores.dot(Wi)\n",
    "    Ri=Fi.rank(ascending=False).astype(int);\n",
    "    print(\"\\n综合排名:\\n\")\n",
    "    return pd.DataFrame({'综合得分':Fi,'综合排名':Ri})"
   ]
  },
  {
   "cell_type": "code",
   "execution_count": null,
   "metadata": {},
   "outputs": [],
   "source": [
    "pd.set_option('display.max_rows',31) \n",
    "FAscores(d31,m=2,rot='varimax')"
   ]
  },
  {
   "cell_type": "markdown",
   "metadata": {},
   "source": [
    "## 7.6 实际中进行因子分析"
   ]
  },
  {
   "cell_type": "markdown",
   "metadata": {},
   "source": [
    "### 7.6.1 基本分析"
   ]
  },
  {
   "cell_type": "markdown",
   "metadata": {},
   "source": [
    "### 7.6.2 扩展分析"
   ]
  },
  {
   "cell_type": "markdown",
   "metadata": {},
   "source": [
    "## 案例7 上市公司经营业绩评价的因子分析"
   ]
  },
  {
   "cell_type": "code",
   "execution_count": null,
   "metadata": {},
   "outputs": [],
   "source": [
    "Case7=pd.read_excel('mvscase.xlsx','Case7',index_col=0); #Case7"
   ]
  },
  {
   "cell_type": "code",
   "execution_count": null,
   "metadata": {},
   "outputs": [],
   "source": [
    "print(FAscores(Case7,m=4))"
   ]
  },
  {
   "cell_type": "code",
   "execution_count": null,
   "metadata": {},
   "outputs": [],
   "source": []
  }
 ],
 "metadata": {
  "kernelspec": {
   "display_name": "Python 3 (ipykernel)",
   "language": "python",
   "name": "python3"
  },
  "language_info": {
   "codemirror_mode": {
    "name": "ipython",
    "version": 3
   },
   "file_extension": ".py",
   "mimetype": "text/x-python",
   "name": "python",
   "nbconvert_exporter": "python",
   "pygments_lexer": "ipython3",
   "version": "3.9.7"
  },
  "toc": {
   "base_numbering": 1,
   "nav_menu": {},
   "number_sections": true,
   "sideBar": true,
   "skip_h1_title": false,
   "title_cell": "Table of Contents",
   "title_sidebar": "Contents",
   "toc_cell": false,
   "toc_position": {},
   "toc_section_display": true,
   "toc_window_display": false
  }
 },
 "nbformat": 4,
 "nbformat_minor": 4
}
