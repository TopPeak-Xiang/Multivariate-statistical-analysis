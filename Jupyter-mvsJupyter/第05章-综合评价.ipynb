{
 "cells": [
  {
   "cell_type": "code",
   "execution_count": null,
   "metadata": {},
   "outputs": [],
   "source": [
    "#%run init.py\n",
    "#%cd \"F:\\\\python\""
   ]
  },
  {
   "cell_type": "markdown",
   "metadata": {},
   "source": [
    "# 第5章 综合评价方法及应用"
   ]
  },
  {
   "cell_type": "markdown",
   "metadata": {},
   "source": [
    "## 5.1 综合评价的基本概念"
   ]
  },
  {
   "cell_type": "markdown",
   "metadata": {},
   "source": [
    "## 5.2 评价指标体系的构建"
   ]
  },
  {
   "cell_type": "markdown",
   "metadata": {},
   "source": [
    "### 5.2.1 指标体系的构建原则"
   ]
  },
  {
   "cell_type": "markdown",
   "metadata": {},
   "source": [
    "### 5.2.2 评价指标体系的选取"
   ]
  },
  {
   "cell_type": "code",
   "execution_count": null,
   "metadata": {},
   "outputs": [],
   "source": [
    "import pandas as pd\n",
    "pd.set_option('display.max_rows',31)                    #显示数据框最大行数\n",
    "d31=pd.read_excel('mvsData.xlsx','d31',index_col=0);   #读取居民消费支出数据\n",
    "d51=d31[['衣着','食品','居住','交通','教育','医疗','设备','杂项']] #指标体系数据\n",
    "print(d51)"
   ]
  },
  {
   "cell_type": "markdown",
   "metadata": {},
   "source": [
    "## 5.3 数据无量纲化及权重确定"
   ]
  },
  {
   "cell_type": "markdown",
   "metadata": {},
   "source": [
    "### 5.3.1 观测指标的无量纲方法"
   ]
  },
  {
   "cell_type": "code",
   "execution_count": null,
   "metadata": {},
   "outputs": [],
   "source": [
    "#def bz(x): return (x-x.min())/(x.max()-x.min())*60+40  #定义规范化函数\n",
    "def bz(x): \n",
    "    z=(x-x.min())/(x.max()-x.min())*60+40\n",
    "    return(z)"
   ]
  },
  {
   "cell_type": "code",
   "execution_count": null,
   "metadata": {},
   "outputs": [],
   "source": [
    "Z=d51.apply(bz,0);Z    #数据无量纲化\n",
    "pd.set_option('display.precision',2) #设置数据框输出精度，2位小数\n",
    "print(Z)"
   ]
  },
  {
   "cell_type": "markdown",
   "metadata": {},
   "source": [
    "### 5.3.2 评价指标权重确定方法"
   ]
  },
  {
   "cell_type": "code",
   "execution_count": null,
   "metadata": {},
   "outputs": [],
   "source": [
    "import numpy as np\n",
    "np.set_printoptions(precision=4)  #设置numpy输出精度\n",
    "def AHP(A):  #A为判断矩阵\n",
    "    print('判断矩阵:\\n',A)\n",
    "    m=np.shape(A)[0];\n",
    "    D=np.linalg.eig(A);    #特征值\n",
    "    E=np.real(D[0][0]);    #特征向量 \n",
    "    ai=np.real(D[1][:,0]); #最大特征值   \n",
    "    W=ai/sum(ai)           #权重归一化\n",
    "    if(m>2):\n",
    "        print('L_max=',E.round(4))\n",
    "        CI=(E-m)/(m-1)   #计算一致性比例\n",
    "        RI=[0,0,0.52,0.89,1.12,1.25,1.35,1.42,1.46,1.49,1.52,1.54,1.56,1.58,1.59]\n",
    "        CR=CI/RI[m-1]\n",
    "        print('一致性指标 CI:',round(CI,4))\n",
    "        print('一致性比例 CR:',round(CR,4))    \n",
    "        if CR<0.1: print('CR<=0.1，一致性可以接受!')\n",
    "        else: print('CR>0.1，一致性不可接受!')\n",
    "    print('权重向量:')\n",
    "    return(W)"
   ]
  },
  {
   "cell_type": "code",
   "execution_count": null,
   "metadata": {},
   "outputs": [],
   "source": [
    "A=np.array([[1,2],[1/2,1]])\n",
    "A_W=AHP(A);A_W"
   ]
  },
  {
   "cell_type": "code",
   "execution_count": null,
   "metadata": {},
   "outputs": [],
   "source": [
    "B1=np.array([[1,1/4,1/3,1/2],[4,1,2,3],[3,1/2,1,4],[2,1/3,1/4,1]])\n",
    "B1_W=AHP(B1);B1_W"
   ]
  },
  {
   "cell_type": "code",
   "execution_count": null,
   "metadata": {},
   "outputs": [],
   "source": [
    "B2=np.array([[1,2,3,3],[1/2,1,2,4],[1/3,1/2,1,2],[1/3,1/4,1/2,1]])\n",
    "B2_W=AHP(B2);B2_W"
   ]
  },
  {
   "cell_type": "markdown",
   "metadata": {},
   "source": [
    "## 5.4 综合评价方法及其应用"
   ]
  },
  {
   "cell_type": "markdown",
   "metadata": {},
   "source": [
    "### 5.4.1 综合评分法"
   ]
  },
  {
   "cell_type": "code",
   "execution_count": null,
   "metadata": {},
   "outputs": [],
   "source": [
    "pd.set_option('display.max_rows',8)\n",
    "S=Z.mean(axis=1);S  #按列求均值"
   ]
  },
  {
   "cell_type": "code",
   "execution_count": null,
   "metadata": {},
   "outputs": [],
   "source": [
    "len(S[S<60])"
   ]
  },
  {
   "cell_type": "code",
   "execution_count": null,
   "metadata": {},
   "outputs": [],
   "source": [
    "Sr=S.rank(ascending=False).astype(int) #综合排名\n",
    "print(Sr)"
   ]
  },
  {
   "cell_type": "code",
   "execution_count": null,
   "metadata": {},
   "outputs": [],
   "source": [
    "pd.set_option('display.max_rows',31)\n",
    "print(pd.DataFrame({'综合评分':S,'综合排名':Sr}))\n",
    "#pd.concat([A1_Z,M1],axis=1).round(2) "
   ]
  },
  {
   "cell_type": "markdown",
   "metadata": {},
   "source": [
    "### 5.4.2 层次分析法"
   ]
  },
  {
   "cell_type": "code",
   "execution_count": null,
   "metadata": {},
   "outputs": [],
   "source": [
    "S2=pd.DataFrame()\n",
    "S2['A1得分']=Z[['衣着','食品','居住','交通']].dot(B1_W)        #常规消费A1得分\n",
    "S2['A1排名']=S2['A1得分'].rank(ascending=False).astype(int)   #常规消费A2排序\n",
    "print(S2)"
   ]
  },
  {
   "cell_type": "code",
   "execution_count": null,
   "metadata": {},
   "outputs": [],
   "source": [
    "S2['A2得分']=Z[['教育','医疗','设备','杂项']].dot(B2_W)        #附加消费A2得分\n",
    "S2['A2排名']=S2['A2得分'].rank(ascending=False).astype(int)   #附加消费A2排序\n",
    "print(S2)"
   ]
  },
  {
   "cell_type": "code",
   "execution_count": null,
   "metadata": {},
   "outputs": [],
   "source": [
    "S2['层次得分']=S2[['A1得分','A2得分']].dot(A_W)                 #A层次综合得分\n",
    "S2['层次排名']=S2['层次得分'].rank(ascending=False).astype(int) #A层次综合排序\n",
    "pd.set_option('display.max_rows',31) \n",
    "print(S2)"
   ]
  },
  {
   "cell_type": "code",
   "execution_count": null,
   "metadata": {},
   "outputs": [],
   "source": [
    "print(pd.DataFrame({'综合评分':S,'综合排名':Sr,\n",
    "              '层次得分':S2.层次得分,'层次排名':S2.层次排名}))"
   ]
  },
  {
   "cell_type": "markdown",
   "metadata": {},
   "source": [
    "# 案例5：广东省知识产权发展水平综合评价"
   ]
  },
  {
   "cell_type": "code",
   "execution_count": null,
   "metadata": {},
   "outputs": [],
   "source": [
    "A=np.array([[1,3,5],[1/3,1,3],[1/5,1/3,1]])\n",
    "A_W=AHP(A);A_W  #A的权重"
   ]
  },
  {
   "cell_type": "code",
   "execution_count": null,
   "metadata": {},
   "outputs": [],
   "source": [
    "B1=np.array([[1,4,5,3,6,7],[1/4,1,2,1/2,3,4],[1/5,1/2,1,1/3,2,3],[1/3,2,3,1,4,5],[1/6,1/3,1/2,1/4,1,2],[1/7,1/4,1/3,1/5,1/2,1]] )\n",
    "B1_W=AHP(B1);B1_W  #B1的权重"
   ]
  },
  {
   "cell_type": "code",
   "execution_count": null,
   "metadata": {},
   "outputs": [],
   "source": [
    "B2=np.array([[1,4,5,7,8,9],[1/4,1,2,4,5,6],[1/5,1/2,1,3,4,5],[1/7,1/4,1/3,1,2,3],[1/8,1/5,1/4,1/2,1,2],[1/9,1/6,1/5,1/3,1/2,1]])\n",
    "B2_W=AHP(B2);B2_W  #B2的权重"
   ]
  },
  {
   "cell_type": "code",
   "execution_count": null,
   "metadata": {},
   "outputs": [],
   "source": [
    "B3=np.array([[1,5,2,6,2,6,1],[1/5,1,1/4,2,1/4,2,1/5],\n",
    "             [1/2,5,1,5,1,5,1/2],[1/6,1/2,1/5,1,1/5,1,1/6],\n",
    "             [1/2,4,1,5,1,5,1/2],[1/6,1/2,1/5,1,1/5,1,1/6],\n",
    "             [1,5,2,6,2,6,1]])\n",
    "B3_W=AHP(B3);B3_W  #B3的权重"
   ]
  },
  {
   "cell_type": "code",
   "execution_count": null,
   "metadata": {},
   "outputs": [],
   "source": [
    "pd.set_option('display.max_rows',21)\n",
    "Case5=pd.read_excel('mvsCase.xlsx','Case5',index_col=0);\n",
    "print(Case5)"
   ]
  },
  {
   "cell_type": "code",
   "execution_count": null,
   "metadata": {},
   "outputs": [],
   "source": [
    "def bz(x):return (x-x.min())/(x.max()-x.min())*60+40  \n",
    "Z=Case5.apply(bz,0)\n",
    "S=pd.DataFrame()\n",
    "S['A1得分']=Z.iloc[:,0:6].dot(B1_W)     #A1得分 \n",
    "S['A1排名']=S.A1得分.rank(ascending=False).astype(int)  #A1排名\n",
    "S['A2得分']=Z.iloc[:,6:12].dot(B2_W)    #A2得分\n",
    "S['A2排名']=S.A2得分.rank(ascending=False).astype(int)  #A2排名\n",
    "S['A3得分']=Z.iloc[:,12:19].dot(B3_W)   #A3得分\n",
    "S['A3排名']=S.A3得分.rank(ascending=False).astype(int)  #A3排名\n",
    "S['综合得分']=S[['A1得分','A2得分','A3得分']].dot(A_W)  #总得分\n",
    "S['综合排名']=S.综合得分.rank(ascending=False).astype(int)  #总排名\n",
    "print(S)"
   ]
  },
  {
   "cell_type": "code",
   "execution_count": null,
   "metadata": {},
   "outputs": [],
   "source": []
  }
 ],
 "metadata": {
  "kernelspec": {
   "display_name": "Python 3 (ipykernel)",
   "language": "python",
   "name": "python3"
  },
  "language_info": {
   "codemirror_mode": {
    "name": "ipython",
    "version": 3
   },
   "file_extension": ".py",
   "mimetype": "text/x-python",
   "name": "python",
   "nbconvert_exporter": "python",
   "pygments_lexer": "ipython3",
   "version": "3.9.7"
  }
 },
 "nbformat": 4,
 "nbformat_minor": 4
}
