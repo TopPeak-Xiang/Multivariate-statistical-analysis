{
 "cells": [
  {
   "cell_type": "markdown",
   "metadata": {},
   "source": [
    "# 第9章 相关与回归及Python分析"
   ]
  },
  {
   "cell_type": "markdown",
   "metadata": {},
   "source": [
    "## 9.1 变量间的关系"
   ]
  },
  {
   "cell_type": "markdown",
   "metadata": {},
   "source": [
    "## 9.2 一元相关与回归分析"
   ]
  },
  {
   "cell_type": "markdown",
   "metadata": {},
   "source": [
    "### 9.2.1 简单相关分析"
   ]
  },
  {
   "cell_type": "code",
   "execution_count": null,
   "metadata": {},
   "outputs": [],
   "source": [
    "#%run init.py"
   ]
  },
  {
   "cell_type": "code",
   "execution_count": null,
   "metadata": {},
   "outputs": [],
   "source": [
    "import numpy as np\n",
    "np.set_printoptions(4) \n",
    "x=np.array([171,175,159,155,152,158,154,164,168,166,159,164])  #身高向量\n",
    "y=np.array([57,64,41,38,35,44,41,51,57,49,47,46])              #体重向量"
   ]
  },
  {
   "cell_type": "code",
   "execution_count": null,
   "metadata": {},
   "outputs": [],
   "source": [
    "%config InlineBackend.figure_format='retina'\n",
    "import matplotlib.pyplot as plt              #加载基本绘图包\n",
    "plt.scatter(x,y);                            #做散点图\n",
    "plt.xlabel('x');plt.ylabel('y');"
   ]
  },
  {
   "cell_type": "code",
   "execution_count": null,
   "metadata": {},
   "outputs": [],
   "source": [
    "def lxy(x,y):return sum(x*y)-sum(x)*sum(y)/len(x)  #离均差乘积和函数"
   ]
  },
  {
   "cell_type": "code",
   "execution_count": null,
   "metadata": {},
   "outputs": [],
   "source": [
    "lxy(x,x)  #x的离均差平方和"
   ]
  },
  {
   "cell_type": "code",
   "execution_count": null,
   "metadata": {},
   "outputs": [],
   "source": [
    "lxy(y,y)  #y的离均差平方和"
   ]
  },
  {
   "cell_type": "code",
   "execution_count": null,
   "metadata": {},
   "outputs": [],
   "source": [
    "lxy(x,y)  #x和y的离均差乘积和"
   ]
  },
  {
   "cell_type": "code",
   "execution_count": null,
   "metadata": {},
   "outputs": [],
   "source": [
    "r=lxy(x,y)/np.sqrt(lxy(x,x)*lxy(y,y)) ;r  #相关系数计算"
   ]
  },
  {
   "cell_type": "code",
   "execution_count": null,
   "metadata": {},
   "outputs": [],
   "source": [
    "#np.corrcoef(x,y)       #计算相关系数"
   ]
  },
  {
   "cell_type": "code",
   "execution_count": null,
   "metadata": {},
   "outputs": [],
   "source": [
    "n=len(x)                  #向量的长度\n",
    "tr=r/np.sqrt((1-r**2)/(n-2))  #相关系数假设检验t统计量\n",
    "tr"
   ]
  },
  {
   "cell_type": "code",
   "execution_count": null,
   "metadata": {},
   "outputs": [],
   "source": [
    "#from scipy import stats as st             #加载统计包\n",
    "import scipy.stats as st             #加载统计包\n",
    "rp=st.pearsonr(x,y)\n",
    "print('r=%.4f  p-value=%.4g'%(rp[0],rp[1]))"
   ]
  },
  {
   "cell_type": "markdown",
   "metadata": {},
   "source": [
    "### 9.2.2 简单回归分析"
   ]
  },
  {
   "cell_type": "code",
   "execution_count": null,
   "metadata": {},
   "outputs": [],
   "source": [
    "b=lxy(x,y)/lxy(x,x)             #线性回归方程斜率\n",
    "a=y.mean()-b*x.mean()           #线性回归方程截距\n",
    "print('a=%.4f  b=%.4f'%(a,b))   #显示线性回归方程估计值"
   ]
  },
  {
   "cell_type": "code",
   "execution_count": null,
   "metadata": {},
   "outputs": [],
   "source": [
    "plt.plot(x,y,'o',x,a+b*x,'-');     #添加估计方程线\n",
    "plt.xlabel('x');plt.ylabel('y');"
   ]
  },
  {
   "cell_type": "code",
   "execution_count": null,
   "metadata": {},
   "outputs": [],
   "source": [
    "import pandas as pd                          #加载数据分析包\n",
    "pd.set_option('display.precision',4)         #设置数据框输出精度\n",
    "d93=pd.read_excel('mvsData.xlsx','d93',index_col=0);d93 "
   ]
  },
  {
   "cell_type": "code",
   "execution_count": null,
   "metadata": {},
   "outputs": [],
   "source": [
    "from statsmodels.formula.api import ols   #加载公式法普通最小二乘函数\n",
    "fm0=ols('y ~ x',data=d93).fit()           #拟合一元线性回归模型\n",
    "fm0.params                                #显示回归参数"
   ]
  },
  {
   "cell_type": "code",
   "execution_count": null,
   "metadata": {},
   "outputs": [],
   "source": [
    "plt.plot(d93.x,d93.y,'o',d93.x,fm0.fittedvalues,'-');  #添加回归线\n",
    "plt.xlabel('x');plt.ylabel('y');"
   ]
  },
  {
   "cell_type": "code",
   "execution_count": null,
   "metadata": {},
   "outputs": [],
   "source": [
    "#import statsmodels.api as sm   #加载统计分析模型包\n",
    "#sm.stats.anova_lm(fm0)          #模型方差分析"
   ]
  },
  {
   "cell_type": "code",
   "execution_count": null,
   "metadata": {},
   "outputs": [],
   "source": [
    "print(fm0.summary().tables[1])  #回归系数t检验"
   ]
  },
  {
   "cell_type": "markdown",
   "metadata": {
    "tags": []
   },
   "source": [
    "## 9.3 多元相关与回归分析"
   ]
  },
  {
   "cell_type": "markdown",
   "metadata": {
    "tags": []
   },
   "source": [
    "### 9.3.1 多元线性相关分析"
   ]
  },
  {
   "cell_type": "code",
   "execution_count": null,
   "metadata": {},
   "outputs": [],
   "source": [
    "d94=pd.read_excel('mvsData.xlsx','d94',index_col=0); d94 "
   ]
  },
  {
   "cell_type": "code",
   "execution_count": null,
   "metadata": {},
   "outputs": [],
   "source": [
    "print(d94.corr())  #多元数据相关系数矩阵"
   ]
  },
  {
   "cell_type": "code",
   "execution_count": null,
   "metadata": {},
   "outputs": [],
   "source": [
    "%config InlineBackend.figure_format='retina'   #可提高图形显示的清晰度\n",
    "pd.plotting.scatter_matrix(d94);  #多元数据散点图"
   ]
  },
  {
   "cell_type": "code",
   "execution_count": null,
   "metadata": {},
   "outputs": [],
   "source": [
    "import scipy.stats as st    #加载统计包\n",
    "def mcor_test(X):     #相关系数矩阵检验\n",
    "    p=X.shape[1];p\n",
    "    sp=np.ones([p, p]).astype(str)\n",
    "    for i in range(0,p):\n",
    "        for j in range(i,p):        \n",
    "            P=st.pearsonr(X.iloc[:,i],X.iloc[:,j])[1]        \n",
    "            if P>0.05: sp[i,j]=' '\n",
    "            if(P>0.01 and P<=0.05): sp[i,j]='*'\n",
    "            if(P>0.001 and P<=0.01): sp[i,j]='**'\n",
    "            if(P<=0.001): sp[i,j]='***'\n",
    "            r=st.pearsonr(X.iloc[:,i],X.iloc[:,j])[0]\n",
    "            sp[j,i]=round(r,4)\n",
    "            if(i==j):sp[i,j]='------'    \n",
    "    print(pd.DataFrame(sp,index=X.columns,columns=X.columns))\n",
    "    print(\"\\n下三角为相关系数，上三角为检验p值 * p<0.05 ** p<0.05 *** p<0.001\")"
   ]
  },
  {
   "cell_type": "code",
   "execution_count": null,
   "metadata": {
    "tags": []
   },
   "outputs": [],
   "source": [
    "mcor_test(d94)   #多元数据相关系数检验"
   ]
  },
  {
   "cell_type": "markdown",
   "metadata": {},
   "source": [
    "### 9.3.2 多元线性回归模型的建立"
   ]
  },
  {
   "cell_type": "code",
   "execution_count": null,
   "metadata": {},
   "outputs": [],
   "source": [
    "fm=ols('y~x1+x2+x3+x4',data=d94).fit()\n",
    "fm.params              #模型参数"
   ]
  },
  {
   "cell_type": "code",
   "execution_count": null,
   "metadata": {},
   "outputs": [],
   "source": [
    "#from scipy import stats             \n",
    "#fm1_z=ols('y ~ x1+x2+x3+x4',data=d9_4.apply(stats.zscore)).fit()\n",
    "#fm1_z.params  #标准回归系数"
   ]
  },
  {
   "cell_type": "markdown",
   "metadata": {},
   "source": [
    "### 9.3.3 多元线性回归模型的检验"
   ]
  },
  {
   "cell_type": "code",
   "execution_count": null,
   "metadata": {},
   "outputs": [],
   "source": [
    "print(fm.summary())  #多元线性回归系数t检验"
   ]
  },
  {
   "cell_type": "code",
   "execution_count": null,
   "metadata": {},
   "outputs": [],
   "source": [
    "fm1=ols('y~x1',data=d94).fit();fm1.params"
   ]
  },
  {
   "cell_type": "code",
   "execution_count": null,
   "metadata": {},
   "outputs": [],
   "source": [
    "fm2=ols('y~x1+x2',data=d94).fit();fm2.params"
   ]
  },
  {
   "cell_type": "code",
   "execution_count": null,
   "metadata": {},
   "outputs": [],
   "source": [
    "fm3=ols('y~x1+x2+x3',data=d94).fit();fm3.params"
   ]
  },
  {
   "cell_type": "code",
   "execution_count": null,
   "metadata": {},
   "outputs": [],
   "source": [
    "fm4=ols('y~x1+x2+x3+x4',data=d94).fit();fm4.params"
   ]
  },
  {
   "cell_type": "code",
   "execution_count": null,
   "metadata": {},
   "outputs": [],
   "source": [
    "from statsmodels.iolib.summary2 import summary_col\n",
    "summary_col([fm1,fm2,fm3,fm4])"
   ]
  },
  {
   "cell_type": "markdown",
   "metadata": {},
   "source": [
    "### 9.3.4 复相关及模型的决定系数"
   ]
  },
  {
   "cell_type": "code",
   "execution_count": null,
   "metadata": {},
   "outputs": [],
   "source": [
    "R2=fm.rsquared\n",
    "print('模型的决定系数 R^2 = %5.4f'%R2)"
   ]
  },
  {
   "cell_type": "code",
   "execution_count": null,
   "metadata": {},
   "outputs": [],
   "source": [
    "R=np.sqrt(R2);R    \n",
    "print('变量的复相关系数 R = %5.4f'%np.sqrt(R2))"
   ]
  },
  {
   "cell_type": "markdown",
   "metadata": {},
   "source": [
    "## 案例9：中国宏观经济发展的多因素分析"
   ]
  },
  {
   "cell_type": "code",
   "execution_count": null,
   "metadata": {},
   "outputs": [],
   "source": [
    "Case9=pd.read_excel('mvsCase.xlsx','Case9'); Case9"
   ]
  },
  {
   "cell_type": "code",
   "execution_count": null,
   "metadata": {
    "scrolled": true
   },
   "outputs": [],
   "source": [
    "#Case9.describe()"
   ]
  },
  {
   "cell_type": "code",
   "execution_count": null,
   "metadata": {},
   "outputs": [],
   "source": [
    "mcor_test(Case9)   #相关系数两两检验"
   ]
  },
  {
   "cell_type": "code",
   "execution_count": null,
   "metadata": {},
   "outputs": [],
   "source": [
    "pd.plotting.scatter_matrix(Case9);  #矩阵散点图"
   ]
  },
  {
   "cell_type": "code",
   "execution_count": null,
   "metadata": {},
   "outputs": [],
   "source": [
    "from statsmodels.formula.api import ols   \n",
    "print(ols('Y~X1+X2+X3+X4+X5+X6',data=Case9).fit().summary())"
   ]
  },
  {
   "cell_type": "code",
   "execution_count": null,
   "metadata": {},
   "outputs": [],
   "source": [
    "fm=ols('Y~X1+X2+X4',data=Case9).fit();\n",
    "print(fm.summary())"
   ]
  },
  {
   "cell_type": "code",
   "execution_count": null,
   "metadata": {},
   "outputs": [],
   "source": [
    "plt.figure(figsize=(7,5)) \n",
    "plt.plot(Case9.Y,'o',Case9.index,fm.fittedvalues,'-');"
   ]
  },
  {
   "cell_type": "code",
   "execution_count": null,
   "metadata": {},
   "outputs": [],
   "source": []
  }
 ],
 "metadata": {
  "kernelspec": {
   "display_name": "Python 3 (ipykernel)",
   "language": "python",
   "name": "python3"
  },
  "language_info": {
   "codemirror_mode": {
    "name": "ipython",
    "version": 3
   },
   "file_extension": ".py",
   "mimetype": "text/x-python",
   "name": "python",
   "nbconvert_exporter": "python",
   "pygments_lexer": "ipython3",
   "version": "3.9.7"
  }
 },
 "nbformat": 4,
 "nbformat_minor": 4
}
