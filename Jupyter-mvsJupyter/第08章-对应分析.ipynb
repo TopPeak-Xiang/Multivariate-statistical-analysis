{
 "cells": [
  {
   "cell_type": "markdown",
   "metadata": {},
   "source": [
    "# 第8章 对应分析及Python视图"
   ]
  },
  {
   "cell_type": "markdown",
   "metadata": {},
   "source": [
    "## 8.1 对应分析的提出"
   ]
  },
  {
   "cell_type": "markdown",
   "metadata": {},
   "source": [
    "### 8.1.1 样品与变量间的关系"
   ]
  },
  {
   "cell_type": "markdown",
   "metadata": {},
   "source": [
    "### 8.1.2 对应分析的类型"
   ]
  },
  {
   "cell_type": "markdown",
   "metadata": {},
   "source": [
    "## 8.2 对应分析基本原理"
   ]
  },
  {
   "cell_type": "markdown",
   "metadata": {},
   "source": [
    "### 8.2.1 列联表分析"
   ]
  },
  {
   "cell_type": "code",
   "execution_count": null,
   "metadata": {},
   "outputs": [],
   "source": [
    "import pandas as pd                   #加载数据分析包\n",
    "d81=pd.read_excel('mvsData.xlsx','d81',index_col=0);\n",
    "print(d81) #读数据"
   ]
  },
  {
   "cell_type": "code",
   "execution_count": null,
   "metadata": {},
   "outputs": [],
   "source": [
    "from scipy import stats\n",
    "chi2=stats.chi2_contingency(d81)  #列联表卡方检验\n",
    "print('卡方值=%.4f,  P值=%.4g'%(chi2[0],chi2[1]))\n",
    "print('\\n理论频数:\\n',chi2[3].round(2))"
   ]
  },
  {
   "cell_type": "markdown",
   "metadata": {},
   "source": [
    "### 8.2.2 对应分析方法"
   ]
  },
  {
   "cell_type": "markdown",
   "metadata": {},
   "source": [
    "## 8.3 对应分析计算步骤"
   ]
  },
  {
   "cell_type": "markdown",
   "metadata": {},
   "source": [
    "### 8.3.1 对应分析值"
   ]
  },
  {
   "cell_type": "markdown",
   "metadata": {},
   "source": [
    "### 8.3.2 实证分析"
   ]
  },
  {
   "cell_type": "code",
   "execution_count": null,
   "metadata": {},
   "outputs": [],
   "source": [
    "#!pip install prince"
   ]
  },
  {
   "cell_type": "code",
   "execution_count": null,
   "metadata": {},
   "outputs": [],
   "source": [
    "pd.set_option('display.precision',3)  #设置数据框输出精度\n",
    "from prince import CA         #对应分析 \n",
    "ca1=CA().fit(d81)"
   ]
  },
  {
   "cell_type": "code",
   "execution_count": null,
   "metadata": {},
   "outputs": [],
   "source": [
    "F=ca1.row_coordinates(d81)   #行坐标\n",
    "print(F)  "
   ]
  },
  {
   "cell_type": "code",
   "execution_count": null,
   "metadata": {},
   "outputs": [],
   "source": [
    "G=ca1.column_coordinates(d81) #列坐标 \n",
    "print(G)"
   ]
  },
  {
   "cell_type": "code",
   "execution_count": null,
   "metadata": {},
   "outputs": [],
   "source": [
    "def CA_plot(ca,df):      #作对应分析图，替代price的plot_coordinates函数\n",
    "    import matplotlib.pyplot as plt                    #加载基本绘图包\n",
    "    plt.rcParams['font.sans-serif']=['SimHei'];    #设置中文字体为黑体\n",
    "    plt.rcParams['axes.unicode_minus']=False;      #正常显示图中正负号\n",
    "    ca_plot=pd.concat([ca.row_coordinates(df), ca.column_coordinates(df)])\n",
    "    ca_plot['label']=ca_plot.index    \n",
    "    Vi=ca.eigenvalues_; Wi=100*Vi/ca.total_inertia_\n",
    "    fig, ax = plt.subplots(figsize=(6,5.5))\n",
    "    ax.scatter(x=ca_plot[0],y=ca_plot[1])\n",
    "    ax.set_xlabel('Component 0 (' + str(round(Wi[0],2))+str('% inertia)'));\n",
    "    ax.set_ylabel('Component 1 (' + str(round(Wi[1],2))+str('% inertia)'));\n",
    "    plt.axvline(x=0,linestyle=':');plt.axhline(y=0,linestyle=':')\n",
    "    for idx, row in ca_plot.iterrows(): ax.annotate(row['label'], (row[0], row[1]) )    \n",
    "    import numpy as np\n",
    "    return(pd.DataFrame({'特征值':Vi,'贡献率%':Wi,'累计贡献%':np.cumsum(Wi)}))"
   ]
  },
  {
   "cell_type": "code",
   "execution_count": null,
   "metadata": {},
   "outputs": [],
   "source": [
    "CA_plot(ca1,d81)"
   ]
  },
  {
   "cell_type": "code",
   "execution_count": null,
   "metadata": {},
   "outputs": [],
   "source": [
    "d82=pd.read_excel('mvsData.xlsx','d82',index_col=0);#d82 #读数据"
   ]
  },
  {
   "cell_type": "code",
   "execution_count": null,
   "metadata": {},
   "outputs": [],
   "source": [
    "ca2=CA().fit(d82);"
   ]
  },
  {
   "cell_type": "code",
   "execution_count": null,
   "metadata": {},
   "outputs": [],
   "source": [
    "print(ca2.row_coordinates(d82))"
   ]
  },
  {
   "cell_type": "code",
   "execution_count": null,
   "metadata": {},
   "outputs": [],
   "source": [
    "print(ca2.column_coordinates(d82))"
   ]
  },
  {
   "cell_type": "code",
   "execution_count": null,
   "metadata": {},
   "outputs": [],
   "source": [
    "print(CA_plot(ca2,d82))"
   ]
  },
  {
   "cell_type": "markdown",
   "metadata": {},
   "source": [
    "## 8.4 对应分析注意事项"
   ]
  },
  {
   "cell_type": "markdown",
   "metadata": {},
   "source": [
    "## 案例8  对应分析在农民收入中的应用"
   ]
  },
  {
   "cell_type": "code",
   "execution_count": null,
   "metadata": {},
   "outputs": [],
   "source": [
    "Case8=pd.read_excel('mvsCase.xlsx','Case8',index_col=0);\n",
    "Case8"
   ]
  },
  {
   "cell_type": "code",
   "execution_count": null,
   "metadata": {},
   "outputs": [],
   "source": [
    "from scipy import stats\n",
    "dat1=Case8.head(6)  #文化程度\n",
    "st=stats.chi2_contingency(dat1)  \n",
    "print('卡方值=%.4f,  P值=%.4g'%(st[0],st[1]))"
   ]
  },
  {
   "cell_type": "code",
   "execution_count": null,
   "metadata": {},
   "outputs": [],
   "source": [
    "dat2=Case8.tail(7)  #总收入\n",
    "st=stats.chi2_contingency(dat2)  \n",
    "print('卡方值=%.4f,  P值=%.4g'%(st[0],st[1]))"
   ]
  },
  {
   "cell_type": "code",
   "execution_count": null,
   "metadata": {},
   "outputs": [],
   "source": [
    "from prince import CA \n",
    "Ca1=CA().fit(dat1);Ca1\n",
    "print(Ca1.row_coordinates(Case8))\n",
    "print(Ca1.column_coordinates(Case8))"
   ]
  },
  {
   "cell_type": "code",
   "execution_count": null,
   "metadata": {},
   "outputs": [],
   "source": [
    "CA_plot(Ca1,dat1)"
   ]
  },
  {
   "cell_type": "code",
   "execution_count": null,
   "metadata": {},
   "outputs": [],
   "source": [
    "Ca2=CA().fit(dat2)\n",
    "print(Ca2.row_coordinates(Case8))\n",
    "print(Ca2.column_coordinates(Case8))\n",
    "CA_plot(Ca2,dat2)"
   ]
  },
  {
   "cell_type": "code",
   "execution_count": null,
   "metadata": {},
   "outputs": [],
   "source": []
  }
 ],
 "metadata": {
  "kernelspec": {
   "display_name": "Python 3 (ipykernel)",
   "language": "python",
   "name": "python3"
  },
  "language_info": {
   "codemirror_mode": {
    "name": "ipython",
    "version": 3
   },
   "file_extension": ".py",
   "mimetype": "text/x-python",
   "name": "python",
   "nbconvert_exporter": "python",
   "pygments_lexer": "ipython3",
   "version": "3.9.7"
  }
 },
 "nbformat": 4,
 "nbformat_minor": 4
}
