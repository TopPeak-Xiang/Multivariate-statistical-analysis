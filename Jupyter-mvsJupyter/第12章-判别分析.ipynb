{
 "cells": [
  {
   "cell_type": "markdown",
   "metadata": {},
   "source": [
    "# 第12章 判别分析及Python算法"
   ]
  },
  {
   "cell_type": "markdown",
   "metadata": {},
   "source": [
    "## 12.1 判别分析的概念"
   ]
  },
  {
   "cell_type": "code",
   "execution_count": null,
   "metadata": {},
   "outputs": [],
   "source": [
    "%run init.py"
   ]
  },
  {
   "cell_type": "markdown",
   "metadata": {},
   "source": [
    "### 12.1.1 判别分析的用途"
   ]
  },
  {
   "cell_type": "markdown",
   "metadata": {},
   "source": [
    "### 12.1.2 判别分析的种类"
   ]
  },
  {
   "cell_type": "markdown",
   "metadata": {},
   "source": [
    "## 12.2 Fisher判别法"
   ]
  },
  {
   "cell_type": "markdown",
   "metadata": {},
   "source": [
    "### 12.2.1 Fisher判别的提出"
   ]
  },
  {
   "cell_type": "markdown",
   "metadata": {},
   "source": [
    "### 12.2.2 线性判别函数"
   ]
  },
  {
   "cell_type": "code",
   "execution_count": null,
   "metadata": {},
   "outputs": [],
   "source": [
    "#%run init.py"
   ]
  },
  {
   "cell_type": "code",
   "execution_count": null,
   "metadata": {},
   "outputs": [],
   "source": [
    "import pandas as pd                     \n",
    "pd.set_option('display.precision',4)\n",
    "pd.set_option('display.max_rows',20)       "
   ]
  },
  {
   "cell_type": "code",
   "execution_count": null,
   "metadata": {},
   "outputs": [],
   "source": [
    "d121=pd.read_excel('mvsData.xlsx','d121');print(d121)"
   ]
  },
  {
   "cell_type": "code",
   "execution_count": null,
   "metadata": {},
   "outputs": [],
   "source": [
    "d121.boxplot(column=['x1','x2'],by='G');"
   ]
  },
  {
   "cell_type": "code",
   "execution_count": null,
   "metadata": {},
   "outputs": [],
   "source": [
    "#G1=d121[d121.G==1];G2=d121[d121.G==2];"
   ]
  },
  {
   "cell_type": "code",
   "execution_count": null,
   "metadata": {},
   "outputs": [],
   "source": [
    "from scipy import stats as st\n",
    "#st.levene(G1.x1,G2.x1)#方差齐性检验"
   ]
  },
  {
   "cell_type": "code",
   "execution_count": null,
   "metadata": {},
   "outputs": [],
   "source": [
    "t1=st.ttest_ind(d121[d121.G==1].x1,d121[d121.G==2].x1)  #x1两类t检验\n",
    "print('变量x1的两类t检验：t=%.4f, p=%.4f'%(t1[0],t1[1]))"
   ]
  },
  {
   "cell_type": "code",
   "execution_count": null,
   "metadata": {},
   "outputs": [],
   "source": [
    "t2=st.ttest_ind(d121[d121.G==1].x2,d121[d121.G==2].x2)  #x2两类t检验\n",
    "print('变量x2的两类t检验：t=%.4f, p=%.4f'%(t2[0],t2[1]))"
   ]
  },
  {
   "cell_type": "code",
   "execution_count": null,
   "metadata": {},
   "outputs": [],
   "source": [
    "#import statsmodels.api as sm\n",
    "#Logit=sm.GLM.from_formula(\"C(G)~x1+x2\",d121,family=sm.families.Binomial()).fit()\n",
    "#print(Logit.summary().tables[1])"
   ]
  },
  {
   "cell_type": "code",
   "execution_count": null,
   "metadata": {},
   "outputs": [],
   "source": [
    "import matplotlib.pyplot as plt\n",
    "plt.plot(d121.x1,d121.x2,'.');plt.xlabel('x1');plt.ylabel('x2')\n",
    "for i in range(0,len(d121.G)):plt.text(d121.x1[i],d121.x2[i],d121.G[i])"
   ]
  },
  {
   "cell_type": "code",
   "execution_count": null,
   "metadata": {},
   "outputs": [],
   "source": [
    "from sklearn.discriminant_analysis import LinearDiscriminantAnalysis as lda #?lda"
   ]
  },
  {
   "cell_type": "code",
   "execution_count": null,
   "metadata": {},
   "outputs": [],
   "source": [
    "X=d121[['x1','x2']]; Y=d121['G']\n",
    "d121_lda=lda(priors=(1/2,1/2)).fit(X,Y)\n",
    "d121_lda"
   ]
  },
  {
   "cell_type": "code",
   "execution_count": null,
   "metadata": {},
   "outputs": [],
   "source": [
    "d121['ld_G'] = d121_lda.predict(X) #线性判别结果\n",
    "print(d121)"
   ]
  },
  {
   "cell_type": "code",
   "execution_count": null,
   "metadata": {},
   "outputs": [],
   "source": [
    "#tab1=pd.crosstab(d121.G,d121.ld_G,margins=True)  \n",
    "tab1=d121.pivot_table('id','G','ld_G',aggfunc=len,margins=True)\n",
    "print('混淆矩阵:\\n',tab1)"
   ]
  },
  {
   "cell_type": "code",
   "execution_count": null,
   "metadata": {},
   "outputs": [],
   "source": [
    "import numpy as np\n",
    "def Rate(tab): #定义计算符合率函数    \n",
    "    rate=sum(np.diag(tab)[:-1]/np.diag(tab)[-1:])*100\n",
    "    print('符合率: %.2f'%rate)     \n",
    "Rate(tab1)"
   ]
  },
  {
   "cell_type": "code",
   "execution_count": null,
   "metadata": {},
   "outputs": [],
   "source": [
    "d121_lda.scalings_  #判别系数"
   ]
  },
  {
   "cell_type": "code",
   "execution_count": null,
   "metadata": {},
   "outputs": [],
   "source": [
    "a1=d121_lda.scalings_[0];a2=d121_lda.scalings_[1]\n",
    "#y=a1x1+a2x2 ---> x2=1/a2(y-a1x1)  #线性判别方程\n",
    "a=1/a2*(a1*np.mean(d121.x1)+a2*np.mean(d121.x2)); b =-a1/a2 \n",
    "plt.plot(d121.x1,d121.x2,'.');plt.xlabel('x1');plt.ylabel('x2') \n",
    "plt.plot(d121.x1,a+b*d121.x1,color='r');#画出判别线\n",
    "for i in range(0,len(d121.G)):plt.text(d121.x1[i],d121.x2[i],d121.G[i])"
   ]
  },
  {
   "cell_type": "code",
   "execution_count": null,
   "metadata": {},
   "outputs": [],
   "source": [
    "print('线性判别分类情况：',d121_lda.predict(pd.DataFrame([[8.1,2.0]]))) "
   ]
  },
  {
   "cell_type": "markdown",
   "metadata": {},
   "source": [
    "### 12.2.3 非线性判别函数"
   ]
  },
  {
   "cell_type": "code",
   "execution_count": null,
   "metadata": {
    "tags": []
   },
   "outputs": [],
   "source": [
    "from sklearn.discriminant_analysis import QuadraticDiscriminantAnalysis as qda\n",
    "d121_qda=qda(priors=(1/2,1/2)).fit(X,Y)\n",
    "d121_qda"
   ]
  },
  {
   "cell_type": "code",
   "execution_count": null,
   "metadata": {
    "tags": []
   },
   "outputs": [],
   "source": [
    "d121['qd_G'] = d121_qda.predict(X)  #二次判别结果\n",
    "print(d121)"
   ]
  },
  {
   "cell_type": "code",
   "execution_count": null,
   "metadata": {},
   "outputs": [],
   "source": [
    "#tab2=pd.crosstab(d121.G,d121.qd_G,margins=True);\n",
    "tab2=d121.pivot_table('id','G','qd_G',aggfunc=len,margins=True)\n",
    "print('混淆矩阵:\\n',tab2)"
   ]
  },
  {
   "cell_type": "code",
   "execution_count": null,
   "metadata": {
    "tags": []
   },
   "outputs": [],
   "source": [
    "Rate(tab2) "
   ]
  },
  {
   "cell_type": "code",
   "execution_count": null,
   "metadata": {},
   "outputs": [],
   "source": [
    "print('二次判别分类情况：',d121_qda.predict(pd.DataFrame([[8.1,2.0]]))) "
   ]
  },
  {
   "cell_type": "markdown",
   "metadata": {},
   "source": [
    "### 12.2.4 多总体距离判别"
   ]
  },
  {
   "cell_type": "code",
   "execution_count": null,
   "metadata": {},
   "outputs": [],
   "source": [
    "d123=pd.read_excel('mvsData.xlsx','d123');#d123"
   ]
  },
  {
   "cell_type": "code",
   "execution_count": null,
   "metadata": {},
   "outputs": [],
   "source": [
    "plt.plot(d123.Q,d123.C,'.'); plt.xlabel('Q');plt.ylabel('C')\n",
    "for i in range(0,len(d123.G)): plt.text(d123.Q[i],d123.C[i],d123.G[i])"
   ]
  },
  {
   "cell_type": "code",
   "execution_count": null,
   "metadata": {},
   "outputs": [],
   "source": [
    "plt.plot(d123.Q,d123.P,'.'); plt.xlabel('Q');plt.ylabel('P')\n",
    "for i in range(0,len(d123.G)):plt.text(d123.Q[i],d123.P[i],d123.G[i])"
   ]
  },
  {
   "cell_type": "code",
   "execution_count": null,
   "metadata": {},
   "outputs": [],
   "source": [
    "plt.plot(d123.C,d123.P,'.'); plt.xlabel('C');plt.ylabel('P')\n",
    "for i in range(0,len(d123.G)):plt.text(d123.C[i],d123.P[i],d123.G[i])"
   ]
  },
  {
   "cell_type": "code",
   "execution_count": null,
   "metadata": {},
   "outputs": [],
   "source": [
    "X=d123[['Q','C','P']]; Y=d123.G\n",
    "d123_lda=lda(priors=(1/3,1/3,1/3)).fit(X,Y) #等概率\n",
    "d123['ld_G'] = d123_lda.predict(X) #线性判别结果\n",
    "print(d123)"
   ]
  },
  {
   "cell_type": "code",
   "execution_count": null,
   "metadata": {},
   "outputs": [],
   "source": [
    "#d123_M1=pd.crosstab(d123.G,d123.ld_G,margins=True); \n",
    "M1=d123.pivot_table('id','G','ld_G',aggfunc=len,margins=True,fill_value='0')\n",
    "print('混淆矩阵:\\n',M1)"
   ]
  },
  {
   "cell_type": "code",
   "execution_count": null,
   "metadata": {},
   "outputs": [],
   "source": [
    "Rate(M1)"
   ]
  },
  {
   "cell_type": "code",
   "execution_count": null,
   "metadata": {},
   "outputs": [],
   "source": [
    "X0=pd.DataFrame([[8,7.5,65]])\n",
    "print('线性判别分类情况：',d123_lda.predict(X0)) "
   ]
  },
  {
   "cell_type": "code",
   "execution_count": null,
   "metadata": {},
   "outputs": [],
   "source": [
    "d123_qda=qda(priors=(1/3,1/3,1/3)).fit(X,Y)\n",
    "d123['qd_G'] = d123_qda.predict(X) #非线性判别结果\n",
    "print(d123)"
   ]
  },
  {
   "cell_type": "code",
   "execution_count": null,
   "metadata": {},
   "outputs": [],
   "source": [
    "M2=d123.pivot_table('id','G','qd_G',aggfunc=len,margins=True,fill_value='0')\n",
    "print('混淆矩阵:\\n',M2)"
   ]
  },
  {
   "cell_type": "code",
   "execution_count": null,
   "metadata": {},
   "outputs": [],
   "source": [
    "Rate(M2)"
   ]
  },
  {
   "cell_type": "code",
   "execution_count": null,
   "metadata": {},
   "outputs": [],
   "source": [
    "print('非线性判别分类情况：',d123_qda.predict(X0)) "
   ]
  },
  {
   "cell_type": "markdown",
   "metadata": {},
   "source": [
    "## 12.3 Bayes判别法"
   ]
  },
  {
   "cell_type": "markdown",
   "metadata": {},
   "source": [
    "### 12.3.1 Bayes判别准则"
   ]
  },
  {
   "cell_type": "markdown",
   "metadata": {},
   "source": [
    "### 12.3.2 正态总体的Bayes判别"
   ]
  },
  {
   "cell_type": "code",
   "execution_count": null,
   "metadata": {},
   "outputs": [],
   "source": [
    "#先验概率不等的Bayes线性判别模型\n",
    "d123_ld_B=lda(priors=(5/20,8/20,7/20)).fit(X,Y)\n",
    "d123['ld_B_G'] = d123_ld_B.predict(X) \n",
    "print(d123)"
   ]
  },
  {
   "cell_type": "code",
   "execution_count": null,
   "metadata": {},
   "outputs": [],
   "source": [
    "M3=d123.pivot_table('id','G','ld_B_G',aggfunc=len,margins=True,fill_value='0')\n",
    "print('混淆矩阵:\\n',M3)"
   ]
  },
  {
   "cell_type": "code",
   "execution_count": null,
   "metadata": {},
   "outputs": [],
   "source": [
    "Rate(M3)"
   ]
  },
  {
   "cell_type": "code",
   "execution_count": null,
   "metadata": {},
   "outputs": [],
   "source": [
    "print('分类后验概率:')\n",
    "d123_ld_B_p=100*d123_ld_B.predict_proba(X).round(2)\n",
    "print(pd.DataFrame(d123_ld_B_p,d123.id,['G1','G2','G3']))"
   ]
  },
  {
   "cell_type": "code",
   "execution_count": null,
   "metadata": {},
   "outputs": [],
   "source": [
    "print('线性判别分类情况：',d123_ld_B.predict(X0))"
   ]
  },
  {
   "cell_type": "code",
   "execution_count": null,
   "metadata": {},
   "outputs": [],
   "source": [
    "np.set_printoptions(precision=2,suppress=True) \n",
    "print('线性判别分类概率：',d123_ld_B.predict_proba(X0)*100)"
   ]
  },
  {
   "cell_type": "code",
   "execution_count": null,
   "metadata": {},
   "outputs": [],
   "source": [
    "#先验概率不等的Bayes非线性判别模型\n",
    "d123_qd_B=qda(priors=(5/20,8/20,7/20)).fit(X,Y)\n",
    "d123['qd_B_G'] = d123_qd_B.predict(X) \n",
    "print(d123)"
   ]
  },
  {
   "cell_type": "code",
   "execution_count": null,
   "metadata": {},
   "outputs": [],
   "source": [
    "M4=d123.pivot_table('id','G','qd_B_G',aggfunc=len,margins=True,fill_value='0')\n",
    "print('混淆矩阵:\\n',M4)"
   ]
  },
  {
   "cell_type": "code",
   "execution_count": null,
   "metadata": {},
   "outputs": [],
   "source": [
    "Rate(M4)"
   ]
  },
  {
   "cell_type": "code",
   "execution_count": null,
   "metadata": {},
   "outputs": [],
   "source": [
    "print('分类后验概率:')\n",
    "d123_qd_B_p=100*d123_qd_B.predict_proba(X).round(2)\n",
    "print(pd.DataFrame(d123_qd_B_p,d123.id,['G1','G2','G3']))"
   ]
  },
  {
   "cell_type": "code",
   "execution_count": null,
   "metadata": {},
   "outputs": [],
   "source": [
    "print('非线性判别分类情况：',d123_qd_B.predict(X0))"
   ]
  },
  {
   "cell_type": "code",
   "execution_count": null,
   "metadata": {},
   "outputs": [],
   "source": [
    "print('非线性判别分类概率：',d123_qd_B.predict_proba(X0)*100)"
   ]
  },
  {
   "cell_type": "markdown",
   "metadata": {},
   "source": [
    "## 案例十二"
   ]
  },
  {
   "cell_type": "code",
   "execution_count": null,
   "metadata": {},
   "outputs": [],
   "source": [
    "Case12=pd.read_excel('mvsCase.xlsx','Case12');Case12"
   ]
  },
  {
   "cell_type": "code",
   "execution_count": null,
   "metadata": {},
   "outputs": [],
   "source": [
    "Case12.pivot_table(['CF_TD','NI_TA','CA_CL','CA_NS'],['G'],\n",
    "                   aggfunc={len,np.mean,np.std})"
   ]
  },
  {
   "cell_type": "code",
   "execution_count": null,
   "metadata": {
    "tags": []
   },
   "outputs": [],
   "source": [
    "from sklearn.discriminant_analysis import LinearDiscriminantAnalysis as lda\n",
    "X=Case12[['CF_TD','NI_TA','CA_CL','CA_NS']]; Y=Case12.G \n",
    "Case12_lda=lda().fit(X,Y)  #线性判别\n",
    "Case12['ld_G'] = Case12_lda.predict(X)\n",
    "Case12"
   ]
  },
  {
   "cell_type": "code",
   "execution_count": null,
   "metadata": {},
   "outputs": [],
   "source": [
    "Case12_ld_M=Case12.pivot_table('id','G','ld_G',aggfunc=len,margins=True)\n",
    "print('混淆矩阵:\\n',Case12_ld_M)"
   ]
  },
  {
   "cell_type": "code",
   "execution_count": null,
   "metadata": {},
   "outputs": [],
   "source": [
    "Rate(Case12_ld_M)"
   ]
  },
  {
   "cell_type": "code",
   "execution_count": null,
   "metadata": {
    "tags": []
   },
   "outputs": [],
   "source": [
    "from sklearn.discriminant_analysis import QuadraticDiscriminantAnalysis as qda\n",
    "Case12_qda=qda().fit(X,Y)  #非线性判别\n",
    "Case12['qd_G'] = Case12_qda.predict(X)\n",
    "Case12"
   ]
  },
  {
   "cell_type": "code",
   "execution_count": null,
   "metadata": {},
   "outputs": [],
   "source": [
    "Case12_qd_M=Case12.pivot_table('id','G','qd_G',aggfunc=len,margins=True)\n",
    "print(Case12_qd_M)"
   ]
  },
  {
   "cell_type": "code",
   "execution_count": null,
   "metadata": {},
   "outputs": [],
   "source": [
    "Rate(Case12_qd_M)"
   ]
  },
  {
   "cell_type": "code",
   "execution_count": null,
   "metadata": {},
   "outputs": [],
   "source": []
  }
 ],
 "metadata": {
  "kernelspec": {
   "display_name": "Python 3 (ipykernel)",
   "language": "python",
   "name": "python3"
  },
  "language_info": {
   "codemirror_mode": {
    "name": "ipython",
    "version": 3
   },
   "file_extension": ".py",
   "mimetype": "text/x-python",
   "name": "python",
   "nbconvert_exporter": "python",
   "pygments_lexer": "ipython3",
   "version": "3.9.7"
  },
  "toc": {
   "base_numbering": 1,
   "nav_menu": {},
   "number_sections": true,
   "sideBar": true,
   "skip_h1_title": false,
   "title_cell": "Table of Contents",
   "title_sidebar": "Contents",
   "toc_cell": false,
   "toc_position": {},
   "toc_section_display": true,
   "toc_window_display": true
  }
 },
 "nbformat": 4,
 "nbformat_minor": 4
}
