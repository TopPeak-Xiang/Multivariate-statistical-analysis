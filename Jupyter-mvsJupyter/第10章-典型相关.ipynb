{
 "cells": [
  {
   "cell_type": "markdown",
   "metadata": {},
   "source": [
    "# 第10章 典型相关分析"
   ]
  },
  {
   "cell_type": "markdown",
   "metadata": {},
   "source": [
    "## 10.1 引言"
   ]
  },
  {
   "cell_type": "markdown",
   "metadata": {},
   "source": [
    "## 10.2 相关分析的架构"
   ]
  },
  {
   "cell_type": "code",
   "execution_count": null,
   "metadata": {},
   "outputs": [],
   "source": [
    "#%run init.py"
   ]
  },
  {
   "cell_type": "code",
   "execution_count": null,
   "metadata": {},
   "outputs": [],
   "source": [
    "#%cd \"F:\\\\python\""
   ]
  },
  {
   "cell_type": "markdown",
   "metadata": {},
   "source": [
    "### 10.2.1 简单相关分析"
   ]
  },
  {
   "cell_type": "code",
   "execution_count": null,
   "metadata": {},
   "outputs": [],
   "source": [
    "import pandas as pd\n",
    "pd.set_option('display.precision',4)  #数据框输出精度\n",
    "d101=pd.read_excel('mvsData.xlsx','d101');#d101"
   ]
  },
  {
   "cell_type": "code",
   "execution_count": null,
   "metadata": {
    "scrolled": true
   },
   "outputs": [],
   "source": [
    "d101.corr()"
   ]
  },
  {
   "cell_type": "code",
   "execution_count": null,
   "metadata": {},
   "outputs": [],
   "source": [
    "pd.plotting.scatter_matrix(d101); #sns.pairplot(d10_1)"
   ]
  },
  {
   "cell_type": "markdown",
   "metadata": {},
   "source": [
    "### 10.2.2 多元相关分析"
   ]
  },
  {
   "cell_type": "code",
   "execution_count": null,
   "metadata": {},
   "outputs": [],
   "source": [
    "from statsmodels.formula.api import ols\n",
    "fmy1=ols(formula='y1~x1+x2+x3',data=d101).fit()\n",
    "print(fmy1.summary())"
   ]
  },
  {
   "cell_type": "code",
   "execution_count": null,
   "metadata": {},
   "outputs": [],
   "source": [
    "fmy2=ols(formula='y2~x1+x2+x3',data=d101).fit()\n",
    "print(fmy2.summary())"
   ]
  },
  {
   "cell_type": "code",
   "execution_count": null,
   "metadata": {},
   "outputs": [],
   "source": [
    "fmy3=ols(formula='y3~x1+x2+x3',data=d101).fit()\n",
    "print(fmy3.summary())"
   ]
  },
  {
   "cell_type": "markdown",
   "metadata": {},
   "source": [
    "## 10.3 典型相关分析原理"
   ]
  },
  {
   "cell_type": "markdown",
   "metadata": {},
   "source": [
    "### 10.3.1 典型相关的思想"
   ]
  },
  {
   "cell_type": "markdown",
   "metadata": {},
   "source": [
    "### 10.3.2 典型相关的求法"
   ]
  },
  {
   "cell_type": "code",
   "execution_count": null,
   "metadata": {},
   "outputs": [],
   "source": [
    "X=d101[['x1','x2','x3']]  #第一组数据\n",
    "Y=d101[['y1','y2','y3']]  #第二组数据"
   ]
  },
  {
   "cell_type": "code",
   "execution_count": null,
   "metadata": {},
   "outputs": [],
   "source": [
    "from sklearn.cross_decomposition import CCA\n",
    "import numpy as np\n",
    "n,p=np.shape(X); n,q = np.shape(Y)\n",
    "ca=CCA(n_components=min(p,q)).fit(X,Y); #取最小变量个数"
   ]
  },
  {
   "cell_type": "code",
   "execution_count": null,
   "metadata": {},
   "outputs": [],
   "source": [
    "from pandas import DataFrame as DF\n",
    "u_coef=ca.x_rotations_.T  #X的典型变量系数\n",
    "print(DF(u_coef,['u1','u2','u3'],X.columns))\n",
    "v_coef=ca.y_rotations_.T  #Y的典型变量系数\n",
    "print(DF(v_coef,['v1','v2','v3'],Y.columns))"
   ]
  },
  {
   "cell_type": "code",
   "execution_count": null,
   "metadata": {},
   "outputs": [],
   "source": [
    "u_scores,v_scores=ca.transform(X,Y) #典型变量u、v得分\n",
    "U=DF(u_scores);V=DF(v_scores)       #典型变量得分数据框\n",
    "U,V"
   ]
  },
  {
   "cell_type": "code",
   "execution_count": null,
   "metadata": {},
   "outputs": [],
   "source": [
    "CR=U.corrwith(V);CR                 #典型变量的相关系数"
   ]
  },
  {
   "cell_type": "markdown",
   "metadata": {},
   "source": [
    "### 10.3.3 典型变量的性质"
   ]
  },
  {
   "cell_type": "markdown",
   "metadata": {},
   "source": [
    "### 10.3.4 典型相关的检验"
   ]
  },
  {
   "cell_type": "code",
   "execution_count": null,
   "metadata": {},
   "outputs": [],
   "source": [
    "def CR_test(n,p,q,r):  #典型相关检验函数\n",
    "    m=len(r); \n",
    "    import numpy as np\n",
    "    Q=np.zeros(m); P=np.zeros(m)\n",
    "    L=1  #lambda=1\n",
    "    from math import log\n",
    "    for k in range(m-1,-1,-1):  \n",
    "        L=L*(1-r[k]**2)  \n",
    "        Q[k]=-log(L)\n",
    "    from scipy import stats                \n",
    "    for k in range(0,m):\n",
    "        Q[k]=(n-k-1/2*(p+q+3))*Q[k] #检验的卡方值\n",
    "        P[k]=1-stats.chi2.cdf(Q[k],(p-k)*(q-k)) #P值\n",
    "    CR=DF({'CR':r,'Q':Q,'P':P}).round(4)\n",
    "    return CR"
   ]
  },
  {
   "cell_type": "code",
   "execution_count": null,
   "metadata": {},
   "outputs": [],
   "source": [
    "print(CR_test(n,p,q,CR))"
   ]
  },
  {
   "cell_type": "markdown",
   "metadata": {},
   "source": [
    "### 10.4 典型相关分析步骤"
   ]
  },
  {
   "cell_type": "markdown",
   "metadata": {},
   "source": [
    "### 10.4.1 计算典型系数及变量"
   ]
  },
  {
   "cell_type": "code",
   "execution_count": null,
   "metadata": {
    "tags": []
   },
   "outputs": [],
   "source": [
    "def cancor(X,Y,pq=None,plot=False):  #pq指定典型变量的个数\n",
    "    import numpy as np\n",
    "    n,p=np.shape(X); n,q=np.shape(Y)\n",
    "    if pq==None: pq=min(p,q)\n",
    "    cca=CCA(n_components=pq).fit(X,Y); \n",
    "    u_scores,v_scores=cca.transform(X,Y) \n",
    "    r=DF(u_scores).corrwith(DF(v_scores));  \n",
    "    CR=CR_test(n,p,q,r)           \n",
    "    print('典型相关系数检验：\\n',CR)   \n",
    "    print('\\n典型相关变量系数：\\n')\n",
    "    u_coef=DF(cca.x_rotations_.T,['u%d'%(i+1) for i in range(pq)],X.columns)\n",
    "    v_coef=DF(cca.y_rotations_.T,['v%d'%(i+1) for i in range(pq)],Y.columns)        \n",
    "    if plot: #显示第一对典型变量的关系图\n",
    "        import matplotlib.pyplot as plt    \n",
    "        plt.plot(u_scores[:,0],v_scores[:,0],'o')\n",
    "    return u_coef,v_coef"
   ]
  },
  {
   "cell_type": "code",
   "execution_count": null,
   "metadata": {},
   "outputs": [],
   "source": [
    "cancor(X,Y,plot=True)"
   ]
  },
  {
   "cell_type": "markdown",
   "metadata": {},
   "source": [
    "### 10.4.2 典型相关的实证分析"
   ]
  },
  {
   "cell_type": "code",
   "execution_count": null,
   "metadata": {},
   "outputs": [],
   "source": [
    "d102=pd.read_excel('mvsData.xlsx','d102');d102"
   ]
  },
  {
   "cell_type": "code",
   "execution_count": null,
   "metadata": {},
   "outputs": [],
   "source": [
    "#cancor(d102[['x1','x2','x3','x4']],d102[['y1','y2','y3','y4','y5','y6']])\n",
    "X=d102[['x1','x2','x3','x4']];Y=d102[['y1','y2','y3','y4','y5','y6']]\n",
    "cancor(X,Y)"
   ]
  },
  {
   "cell_type": "code",
   "execution_count": null,
   "metadata": {},
   "outputs": [],
   "source": [
    "cancor(X,Y,2,plot=True) #去前两对典型变量并绘制第一对典型变量的散点图"
   ]
  },
  {
   "cell_type": "markdown",
   "metadata": {},
   "source": [
    "## 案例10：R&D投入与产出的典型相关分析"
   ]
  },
  {
   "cell_type": "code",
   "execution_count": null,
   "metadata": {},
   "outputs": [],
   "source": [
    "Case10=pd.read_excel('mvsCase.xlsx','Case10');Case10"
   ]
  },
  {
   "cell_type": "code",
   "execution_count": null,
   "metadata": {},
   "outputs": [],
   "source": [
    "Case10.corr()"
   ]
  },
  {
   "cell_type": "code",
   "execution_count": null,
   "metadata": {},
   "outputs": [],
   "source": [
    "pd.plotting.scatter_matrix(Case10,figsize=(10,8));"
   ]
  },
  {
   "cell_type": "code",
   "execution_count": null,
   "metadata": {},
   "outputs": [],
   "source": [
    "cancor(Case10[['x1','x2','x3']],Case10[['y1','y2','y3','y4','y5','y6']])"
   ]
  },
  {
   "cell_type": "code",
   "execution_count": null,
   "metadata": {},
   "outputs": [],
   "source": [
    "cancor(Case10[['x1','x2','x3']],Case10[['y1','y2','y3','y4','y5','y6']]\n",
    "       ,2,True)"
   ]
  },
  {
   "cell_type": "code",
   "execution_count": null,
   "metadata": {},
   "outputs": [],
   "source": []
  }
 ],
 "metadata": {
  "kernelspec": {
   "display_name": "Python 3 (ipykernel)",
   "language": "python",
   "name": "python3"
  },
  "language_info": {
   "codemirror_mode": {
    "name": "ipython",
    "version": 3
   },
   "file_extension": ".py",
   "mimetype": "text/x-python",
   "name": "python",
   "nbconvert_exporter": "python",
   "pygments_lexer": "ipython3",
   "version": "3.9.7"
  },
  "toc-autonumbering": false
 },
 "nbformat": 4,
 "nbformat_minor": 4
}
