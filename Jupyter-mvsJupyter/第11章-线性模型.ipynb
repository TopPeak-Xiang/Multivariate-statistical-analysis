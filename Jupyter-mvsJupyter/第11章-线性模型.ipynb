{
 "cells": [
  {
   "cell_type": "markdown",
   "metadata": {},
   "source": [
    "# 第11章 扩展线性模型及Python建模"
   ]
  },
  {
   "cell_type": "markdown",
   "metadata": {},
   "source": [
    "## 11.1 数据分类与模型选择"
   ]
  },
  {
   "cell_type": "code",
   "execution_count": null,
   "metadata": {},
   "outputs": [],
   "source": [
    "%run init.py"
   ]
  },
  {
   "cell_type": "markdown",
   "metadata": {},
   "source": [
    "### 11.1.1 变量的取值类型"
   ]
  },
  {
   "cell_type": "markdown",
   "metadata": {},
   "source": [
    "### 11.1.2 模型选择方式"
   ]
  },
  {
   "cell_type": "markdown",
   "metadata": {},
   "source": [
    "## 11.2 方差分析模型"
   ]
  },
  {
   "cell_type": "markdown",
   "metadata": {},
   "source": [
    "### 11.2.1 完全随机设计模型"
   ]
  },
  {
   "cell_type": "code",
   "execution_count": null,
   "metadata": {},
   "outputs": [],
   "source": [
    "import pandas as pd\n",
    "pd.set_option('display.precision',4) "
   ]
  },
  {
   "cell_type": "code",
   "execution_count": null,
   "metadata": {},
   "outputs": [],
   "source": [
    "d111 = pd.read_excel('mvsData.xlsx','d111');d111"
   ]
  },
  {
   "cell_type": "code",
   "execution_count": null,
   "metadata": {},
   "outputs": [],
   "source": [
    "#?d111.boxplot"
   ]
  },
  {
   "cell_type": "code",
   "execution_count": null,
   "metadata": {},
   "outputs": [],
   "source": [
    "#import matplotlib.pyplot as plt\n",
    "#d111.plot('Y','A');\n",
    "d111.boxplot('Y','A');"
   ]
  },
  {
   "cell_type": "code",
   "execution_count": null,
   "metadata": {},
   "outputs": [],
   "source": [
    "#print(d111.groupby('A').mean())"
   ]
  },
  {
   "cell_type": "code",
   "execution_count": null,
   "metadata": {},
   "outputs": [],
   "source": [
    "import numpy as np #计算每组的例数len、均值mean、标准差std\n",
    "print(d111.pivot_table('Y','A',aggfunc={len,np.mean,np.std}))"
   ]
  },
  {
   "cell_type": "code",
   "execution_count": null,
   "metadata": {},
   "outputs": [],
   "source": [
    "from statsmodels.formula.api import ols     #加载普通最小二乘模拟\n",
    "from statsmodels.stats.anova import anova_lm as ANOVA #方差分析\n",
    "M1=ols('Y ~ C(A)',data=d111).fit()          #C(A)设置A为哑变量\n",
    "print(ANOVA(M1))                      #完全随机设计模型方差分析"
   ]
  },
  {
   "cell_type": "markdown",
   "metadata": {},
   "source": [
    "### 11.2.2 随机区组设计模型"
   ]
  },
  {
   "cell_type": "code",
   "execution_count": null,
   "metadata": {},
   "outputs": [],
   "source": [
    "d112 = pd.read_excel('mvsData.xlsx','d112');#d112"
   ]
  },
  {
   "cell_type": "code",
   "execution_count": null,
   "metadata": {},
   "outputs": [],
   "source": [
    "d112.boxplot('Y','A');\n",
    "print(d112.pivot_table('Y','A',aggfunc={len,np.mean,np.std}))"
   ]
  },
  {
   "cell_type": "code",
   "execution_count": null,
   "metadata": {},
   "outputs": [],
   "source": [
    "d112.boxplot('Y','B');\n",
    "print(d112.pivot_table('Y','B',aggfunc={len,np.mean,np.std}))"
   ]
  },
  {
   "cell_type": "code",
   "execution_count": null,
   "metadata": {},
   "outputs": [],
   "source": [
    "M2 = ols('Y ~ C(A)+C(B)',data=d112).fit()\n",
    "print(ANOVA(M2))    #随机单位组设计模型方差分析"
   ]
  },
  {
   "cell_type": "markdown",
   "metadata": {},
   "source": [
    "### 11.2.3 析因设计模型"
   ]
  },
  {
   "cell_type": "code",
   "execution_count": null,
   "metadata": {},
   "outputs": [],
   "source": [
    "d113 = pd.read_excel('mvsData.xlsx','d113');d113"
   ]
  },
  {
   "cell_type": "code",
   "execution_count": null,
   "metadata": {},
   "outputs": [],
   "source": [
    "d113.boxplot('Y','A');\n",
    "d113.pivot_table('Y','A',aggfunc={len,np.mean,np.std})"
   ]
  },
  {
   "cell_type": "code",
   "execution_count": null,
   "metadata": {},
   "outputs": [],
   "source": [
    "d113.boxplot('Y','B');\n",
    "d113.pivot_table('Y','B',aggfunc={len,np.mean,np.std})"
   ]
  },
  {
   "cell_type": "code",
   "execution_count": null,
   "metadata": {},
   "outputs": [],
   "source": [
    "M3 = ols('Y ~ C(A)*C(B)',data=d113).fit()\n",
    "print(ANOVA(M3))   #析因设计模型方差分析"
   ]
  },
  {
   "cell_type": "markdown",
   "metadata": {},
   "source": [
    "### 11.2.4 正交设计模型"
   ]
  },
  {
   "cell_type": "code",
   "execution_count": null,
   "metadata": {},
   "outputs": [],
   "source": [
    "d114 = pd.read_excel('mvsData.xlsx','d114');d114"
   ]
  },
  {
   "cell_type": "code",
   "execution_count": null,
   "metadata": {},
   "outputs": [],
   "source": [
    "d114.pivot_table('Y','A',aggfunc={len,np.mean,np.std})"
   ]
  },
  {
   "cell_type": "code",
   "execution_count": null,
   "metadata": {},
   "outputs": [],
   "source": [
    "#M4 = ols('Y~C(A)+C(B)+C(A)*C(B)+C(C)+C(D)',data=d114).fit()\n",
    "M4 = ols('Y~A+B+A*B+C+D',data=d114).fit()\n",
    "print(ANOVA(M4))      #正交设计模型方差分析"
   ]
  },
  {
   "cell_type": "markdown",
   "metadata": {},
   "source": [
    "## 11.3 广义线性模型"
   ]
  },
  {
   "cell_type": "markdown",
   "metadata": {},
   "source": [
    "### 11.3.1 广义线性模型概述"
   ]
  },
  {
   "cell_type": "code",
   "execution_count": null,
   "metadata": {},
   "outputs": [],
   "source": [
    "import numpy as np\n",
    "x=np.arange(1,20);x\n",
    "y=1/(1+np.exp(-(x-10)));y\n",
    "import matplotlib.pyplot as plt  \n",
    "plt.plot(x,y,'o-');"
   ]
  },
  {
   "cell_type": "markdown",
   "metadata": {},
   "source": [
    "### 11.3.2  Logistic模型"
   ]
  },
  {
   "cell_type": "code",
   "execution_count": null,
   "metadata": {},
   "outputs": [],
   "source": [
    "d115 = pd.read_excel('mvsData.xlsx','d115')  #读取例11.5数据 "
   ]
  },
  {
   "cell_type": "code",
   "execution_count": null,
   "metadata": {},
   "outputs": [],
   "source": [
    "import statsmodels.api as sm\n",
    "Logit=sm.GLM.from_formula('y~x1+x2+x3',family=sm.families.Binomial(),data=d115).fit() \n",
    "Logit.summary()                   #Logistic回归模型结果"
   ]
  },
  {
   "cell_type": "code",
   "execution_count": null,
   "metadata": {},
   "outputs": [],
   "source": [
    "Logit_x1=sm.GLM.from_formula('y~x1',family=sm.families.Binomial(),data=d115).fit()\n",
    "Logit_x1.summary()"
   ]
  },
  {
   "cell_type": "code",
   "execution_count": null,
   "metadata": {},
   "outputs": [],
   "source": [
    "#预测视力正常(x1=1)和视力有问题(x1=0)的司机发生事故概率\n",
    "Logit_x1.predict(pd.DataFrame({'x1':[1,0]})) "
   ]
  },
  {
   "cell_type": "markdown",
   "metadata": {},
   "source": [
    "### 11.3.3 对数线性模型"
   ]
  },
  {
   "cell_type": "code",
   "execution_count": null,
   "metadata": {},
   "outputs": [],
   "source": [
    "d116 = pd.read_excel('mvsData.xlsx','d116')  #读取例11.6数据 \n",
    "print(d116)"
   ]
  },
  {
   "cell_type": "code",
   "execution_count": null,
   "metadata": {},
   "outputs": [],
   "source": [
    "Log=sm.GLM.from_formula('y~C(x1)+C(x2)',family=sm.families.Poisson(),data=d116).fit()\n",
    "Log.summary()                                #对数线性模型结果"
   ]
  },
  {
   "cell_type": "markdown",
   "metadata": {},
   "source": [
    "## 案例11：广义线性模型的应用"
   ]
  },
  {
   "cell_type": "code",
   "execution_count": null,
   "metadata": {},
   "outputs": [],
   "source": [
    "Case11=pd.read_excel('mvsCase.xlsx','Case11');Case11"
   ]
  },
  {
   "cell_type": "code",
   "execution_count": null,
   "metadata": {},
   "outputs": [],
   "source": [
    "import statsmodels.api as sm\n",
    "glm1=sm.GLM.from_formula('y~sex+age',family=sm.families.Binomial(),data=Case11)\n",
    "print(glm1.fit().summary())"
   ]
  },
  {
   "cell_type": "code",
   "execution_count": null,
   "metadata": {},
   "outputs": [],
   "source": [
    "glm2=sm.GLM.from_formula('y~age',family=sm.families.Binomial(),data=Case11)\n",
    "print(glm2.fit().summary())"
   ]
  },
  {
   "cell_type": "code",
   "execution_count": null,
   "metadata": {},
   "outputs": [],
   "source": [
    "fv=glm1.fit().predict();fv\n",
    "import numpy as np\n",
    "pv=1/(1+np.exp(-fv));pv\n",
    "plt.scatter(Case11.age,pv);"
   ]
  },
  {
   "cell_type": "code",
   "execution_count": null,
   "metadata": {},
   "outputs": [],
   "source": []
  }
 ],
 "metadata": {
  "kernelspec": {
   "display_name": "Python 3 (ipykernel)",
   "language": "python",
   "name": "python3"
  },
  "language_info": {
   "codemirror_mode": {
    "name": "ipython",
    "version": 3
   },
   "file_extension": ".py",
   "mimetype": "text/x-python",
   "name": "python",
   "nbconvert_exporter": "python",
   "pygments_lexer": "ipython3",
   "version": "3.9.7"
  }
 },
 "nbformat": 4,
 "nbformat_minor": 4
}
