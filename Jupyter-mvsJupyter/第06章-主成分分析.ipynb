{
 "cells": [
  {
   "cell_type": "markdown",
   "metadata": {},
   "source": [
    "# 第6章 主成分分析及Python计算"
   ]
  },
  {
   "cell_type": "code",
   "execution_count": null,
   "metadata": {},
   "outputs": [],
   "source": [
    "#%cd \"E:/应统电子书讲义\\多元python\n",
    "%run init.py"
   ]
  },
  {
   "cell_type": "markdown",
   "metadata": {},
   "source": [
    "## 6.1 主成分分析的概念"
   ]
  },
  {
   "cell_type": "markdown",
   "metadata": {},
   "source": [
    "### 6.1.1 主成分分析的提出"
   ]
  },
  {
   "cell_type": "markdown",
   "metadata": {},
   "source": [
    "### 6.1.2 主成分的直观解释"
   ]
  },
  {
   "cell_type": "markdown",
   "metadata": {},
   "source": [
    "$\\begin{cases}\n",
    "y_1=\\cos \\theta x_1+\\sin \\theta x_2 \\\\\n",
    "y_2=-\\sin \\theta x_1+\\cos \\theta x_2\n",
    "\\end{cases}$"
   ]
  },
  {
   "cell_type": "code",
   "execution_count": null,
   "metadata": {},
   "outputs": [],
   "source": [
    "x1=[147,171,175,159,155,152,158,154,164,168,166,159,164,177]  #身高\n",
    "x2=[32,57,64,41,38,35,44,41,54,57,49,47,46,63]                #体重"
   ]
  },
  {
   "cell_type": "code",
   "execution_count": null,
   "metadata": {},
   "outputs": [],
   "source": [
    "import matplotlib.pyplot as plt\n",
    "plt.scatter(x1, x2); #绘制散点图\n",
    "plt.xlabel('x1');plt.ylabel('x2');      "
   ]
  },
  {
   "cell_type": "code",
   "execution_count": null,
   "metadata": {},
   "outputs": [],
   "source": [
    "from matplotlib.patches import Ellipse\n",
    "fig=plt.figure();\n",
    "ax=fig.add_subplot(111)\n",
    "ell1=Ellipse(xy=(162,48),width=48,height=8,angle=48,facecolor='yellow',alpha=0.3) \n",
    "ax.add_patch(ell1) #绘制椭圆 \n",
    "plt.scatter(x1, x2);plt.xlabel('x1');plt.ylabel('x2')    \n",
    "plt.plot([146,178],[30,66]);plt.plot([162,166],[54,47]); #绘制线段\n",
    "plt.text(178,66,'y1');plt.text(161,55,'y2');"
   ]
  },
  {
   "cell_type": "markdown",
   "metadata": {},
   "source": [
    "## 6.2 主成分分析的性质"
   ]
  },
  {
   "cell_type": "markdown",
   "metadata": {},
   "source": [
    "### 6.2.1 主成分的说明"
   ]
  },
  {
   "cell_type": "code",
   "execution_count": null,
   "metadata": {},
   "outputs": [],
   "source": [
    "import pandas as pd\n",
    "pd.set_option('display.precision',4)  #数据框输出精度\n",
    "X=pd.DataFrame({'x1':x1,'x2':x2});#X  #构建数据框 X"
   ]
  },
  {
   "cell_type": "code",
   "execution_count": null,
   "metadata": {},
   "outputs": [],
   "source": [
    "S=X.cov();S    #协方差阵"
   ]
  },
  {
   "cell_type": "code",
   "execution_count": null,
   "metadata": {},
   "outputs": [],
   "source": [
    "R=X.corr();R  #相关系数阵"
   ]
  },
  {
   "cell_type": "markdown",
   "metadata": {},
   "source": [
    "### 6.2.2 主成分的推导"
   ]
  },
  {
   "cell_type": "code",
   "execution_count": null,
   "metadata": {},
   "outputs": [],
   "source": [
    "import numpy as np  #from numpy.linalg import svd\n",
    "np.set_printoptions(4)\n",
    "d1,u1,v1=np.linalg.svd(S) #协差阵的奇异值分解 S=UDV'\n",
    "print('d1:\\n',d1,'\\n','u1:\\n',u1,'\\n','v1:\\n',v1)"
   ]
  },
  {
   "cell_type": "code",
   "execution_count": null,
   "metadata": {},
   "outputs": [],
   "source": [
    "d2,u2,v2=np.linalg.svd(R)  #相关阵的奇异值分解 R=UDV'\n",
    "print('d1:\\n',d2,'\\n','u1:\\n',u2,'\\n','v1:\\n',v2)"
   ]
  },
  {
   "cell_type": "markdown",
   "metadata": {},
   "source": [
    "### 6.2.3 主成分的计算"
   ]
  },
  {
   "cell_type": "markdown",
   "metadata": {},
   "source": [
    "1.主成分方差"
   ]
  },
  {
   "cell_type": "code",
   "execution_count": null,
   "metadata": {},
   "outputs": [],
   "source": [
    "from sklearn.decomposition import PCA\n",
    "pca = PCA(n_components=2).fit(X)         #拟合主成分\n",
    "Vi=pca.explained_variance_;Vi             #主成分方差\n",
    "#pd.DataFrame(pca.explained_variance_,index=['PC1','PC2'])   #主成分方差"
   ]
  },
  {
   "cell_type": "markdown",
   "metadata": {},
   "source": [
    "2.主成分系数"
   ]
  },
  {
   "cell_type": "code",
   "execution_count": null,
   "metadata": {},
   "outputs": [],
   "source": [
    "#DataFrame(pca.components_,columns=['PC1','PC2'])        #主成分负荷\n",
    "pca.components_     #主成分负荷"
   ]
  },
  {
   "cell_type": "markdown",
   "metadata": {},
   "source": [
    "3.主成分得分"
   ]
  },
  {
   "cell_type": "code",
   "execution_count": null,
   "metadata": {},
   "outputs": [],
   "source": [
    "scores=pd.DataFrame(pca.fit_transform(X),columns=['PC1','PC2']);\n",
    "scores #主成分得分\n",
    "#scores=pca.fit_transform(X);scores #主成分得分"
   ]
  },
  {
   "cell_type": "code",
   "execution_count": null,
   "metadata": {},
   "outputs": [],
   "source": [
    "scores.plot('PC1','PC2',kind='scatter')           #绘制主成分得分散点图\n",
    "plt.axhline(y=0,ls=\":\");plt.axvline(x=0,ls=\":\"); #添加水平和垂直直线"
   ]
  },
  {
   "cell_type": "code",
   "execution_count": null,
   "metadata": {},
   "outputs": [],
   "source": [
    "scores.corr().round(4)                  #主成分得分相关阵"
   ]
  },
  {
   "cell_type": "code",
   "execution_count": null,
   "metadata": {},
   "outputs": [],
   "source": [
    "scores.cov().round(4)                    #主成分得分协方差阵"
   ]
  },
  {
   "cell_type": "markdown",
   "metadata": {},
   "source": [
    "4.方差贡献率"
   ]
  },
  {
   "cell_type": "code",
   "execution_count": null,
   "metadata": {},
   "outputs": [],
   "source": [
    "Wi=pca.explained_variance_ratio_;Wi   #方差贡献率 "
   ]
  },
  {
   "cell_type": "code",
   "execution_count": null,
   "metadata": {},
   "outputs": [],
   "source": [
    "Wi.sum()             #方差累计贡献率"
   ]
  },
  {
   "cell_type": "markdown",
   "metadata": {},
   "source": [
    "## 6.3 主成分分析步骤\n",
    "### 6.3.1 计算过程"
   ]
  },
  {
   "cell_type": "code",
   "execution_count": null,
   "metadata": {
    "scrolled": true
   },
   "outputs": [],
   "source": [
    "import numpy as np\n",
    "def PCscores(X,m=2): #主成分评价函数\n",
    "    from sklearn.decomposition import PCA\n",
    "    Z=(X-X.mean())/X.std() #数据标准化\n",
    "    p=Z.shape[1]\n",
    "    pca = PCA(n_components=p).fit(Z)\n",
    "    Vi=pca.explained_variance_;Vi\n",
    "    Wi=pca.explained_variance_ratio_;Wi\n",
    "    Vars=pd.DataFrame({'Variances':Vi});Vars  #,index=X.columns\n",
    "    Vars.index=['Comp%d' %(i+1) for i in range(p)]\n",
    "    Vars['Explained']=Wi*100;Vars\n",
    "    Vars['Cumulative']=np.cumsum(Wi)*100;\n",
    "    print(\"\\n方差贡献:\\n\",round(Vars,4))\n",
    "    Compi=['Comp%d' %(i+1) for i in range(m)]\n",
    "    loadings=pd.DataFrame(pca.components_[:m].T,columns=Compi,index=X.columns);\n",
    "    print(\"\\n主成分负荷:\\n\",round(loadings,4))\n",
    "    scores=pd.DataFrame(pca.fit_transform(Z)).iloc[:,:m];\n",
    "    scores.index=X.index; scores.columns=Compi;scores\n",
    "    scores['Comp']=scores.dot(Wi[:m]);scores\n",
    "    scores['Rank']=scores.Comp.rank(ascending=False).astype(int);\n",
    "    return scores #print('\\n综合得分与排名:\\n',round(scores,4))"
   ]
  },
  {
   "cell_type": "markdown",
   "metadata": {},
   "source": [
    "### 6.3.2 实证分析"
   ]
  },
  {
   "cell_type": "code",
   "execution_count": null,
   "metadata": {
    "tags": []
   },
   "outputs": [],
   "source": [
    "d31=pd.read_excel('mvsData.xlsx','d31',index_col=0)\n",
    "d31_pcs=PCscores(d31);print(d31_pcs)"
   ]
  },
  {
   "cell_type": "code",
   "execution_count": null,
   "metadata": {},
   "outputs": [],
   "source": [
    "d31=pd.read_excel('mvsData.xlsx','d31',index_col=0); d31"
   ]
  },
  {
   "cell_type": "code",
   "execution_count": null,
   "metadata": {},
   "outputs": [],
   "source": [
    "d31_pcs=PCscores(d31);\n",
    "#print(d31_pcs)"
   ]
  },
  {
   "cell_type": "code",
   "execution_count": null,
   "metadata": {},
   "outputs": [],
   "source": [
    "print(d31_pcs.sort_values('Rank'))"
   ]
  },
  {
   "cell_type": "code",
   "execution_count": null,
   "metadata": {},
   "outputs": [],
   "source": [
    "import matplotlib.pyplot as plt            \n",
    "plt.rcParams['font.sans-serif']=['SimHei'];  #中文黑体SimHei\n",
    "plt.rcParams['axes.unicode_minus']=False; #正常显示图中正负号\n",
    "def Scoreplot(Scores): #自定得分图绘制函数\n",
    "    plt.plot(Scores.iloc[:,0],Scores.iloc[:,1],'*'); \n",
    "    plt.xlabel(Scores.columns[0]);plt.ylabel(Scores.columns[1])\n",
    "    plt.axhline(y=0,ls=':');plt.axvline(x=0,ls=':')\n",
    "    for i in range(len(Scores)):\n",
    "        plt.text(Scores.iloc[i,0],Scores.iloc[i,1],Scores.index[i])"
   ]
  },
  {
   "cell_type": "code",
   "execution_count": null,
   "metadata": {},
   "outputs": [],
   "source": [
    "Scoreplot(d31_pcs)"
   ]
  },
  {
   "cell_type": "markdown",
   "metadata": {},
   "source": [
    "## 6.4 主成分分析注意事项"
   ]
  },
  {
   "cell_type": "markdown",
   "metadata": {},
   "source": [
    "## 案例6 电信业发展的主成分分析"
   ]
  },
  {
   "cell_type": "code",
   "execution_count": null,
   "metadata": {},
   "outputs": [],
   "source": [
    "Case6=pd.read_excel('mvsCase.xlsx','Case6',index_col=0); #Case6"
   ]
  },
  {
   "cell_type": "code",
   "execution_count": null,
   "metadata": {},
   "outputs": [],
   "source": [
    "plt.figure(figsize=(9,5))\n",
    "import scipy.cluster.hierarchy as sch\n",
    "Z=(Case6-Case6.mean())/Case6.std() #数据标准化\n",
    "D=sch.distance.pdist(Z)\n",
    "H=sch.linkage(D,method='complete');\n",
    "sch.dendrogram(H,labels=Case6.index); #绘制系统聚类图"
   ]
  },
  {
   "cell_type": "code",
   "execution_count": null,
   "metadata": {},
   "outputs": [],
   "source": [
    "Case6_pcs=PCscores(Case6);Case6_pcs    #主成分分析"
   ]
  },
  {
   "cell_type": "code",
   "execution_count": null,
   "metadata": {},
   "outputs": [],
   "source": [
    "Scoreplot(Case6_pcs)"
   ]
  },
  {
   "cell_type": "code",
   "execution_count": null,
   "metadata": {},
   "outputs": [],
   "source": []
  }
 ],
 "metadata": {
  "kernelspec": {
   "display_name": "Python 3 (ipykernel)",
   "language": "python",
   "name": "python3"
  },
  "language_info": {
   "codemirror_mode": {
    "name": "ipython",
    "version": 3
   },
   "file_extension": ".py",
   "mimetype": "text/x-python",
   "name": "python",
   "nbconvert_exporter": "python",
   "pygments_lexer": "ipython3",
   "version": "3.9.7"
  },
  "toc": {
   "base_numbering": 1,
   "nav_menu": {},
   "number_sections": true,
   "sideBar": true,
   "skip_h1_title": false,
   "title_cell": "Table of Contents",
   "title_sidebar": "Contents",
   "toc_cell": false,
   "toc_position": {},
   "toc_section_display": true,
   "toc_window_display": false
  }
 },
 "nbformat": 4,
 "nbformat_minor": 4
}
