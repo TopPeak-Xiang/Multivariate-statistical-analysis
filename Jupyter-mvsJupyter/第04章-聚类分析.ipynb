{
 "cells": [
  {
   "cell_type": "markdown",
   "metadata": {},
   "source": [
    "# 第4章 聚类分析及Python分类"
   ]
  },
  {
   "cell_type": "markdown",
   "metadata": {},
   "source": [
    "## 4.1 聚类分析的概念"
   ]
  },
  {
   "cell_type": "markdown",
   "metadata": {},
   "source": [
    "### 4.1.1 聚类分析的提出"
   ]
  },
  {
   "cell_type": "markdown",
   "metadata": {},
   "source": [
    "### 4.1.2 聚类分析的类型"
   ]
  },
  {
   "cell_type": "markdown",
   "metadata": {},
   "source": [
    "## 4.2聚类统计量"
   ]
  },
  {
   "cell_type": "markdown",
   "metadata": {},
   "source": [
    "### 4.2.1 距离的概念"
   ]
  },
  {
   "cell_type": "code",
   "execution_count": null,
   "metadata": {},
   "outputs": [],
   "source": [
    "sn=[1,2,3,4,5,6,7,8,9]\n",
    "x1=[2.5,3,6,6.6,7.2,4,4.7,4.5,5.5]\n",
    "x2=[2.1,2.5,2.5,1.5,3,6.4,5.6,7.6,6.9]"
   ]
  },
  {
   "cell_type": "code",
   "execution_count": null,
   "metadata": {
    "tags": []
   },
   "outputs": [],
   "source": [
    "#%config InlineBackend.figure_format='retina'\n",
    "import matplotlib.pyplot as plt             \n",
    "plt.plot(x1,x2,'.');plt.xlabel('x1');plt.ylabel('x2')\n",
    "for i in sn: plt.text(x1[i-1],x2[i-1],sn[i-1])"
   ]
  },
  {
   "cell_type": "markdown",
   "metadata": {},
   "source": [
    "### 4.2.2 距离的计算"
   ]
  },
  {
   "cell_type": "code",
   "execution_count": null,
   "metadata": {},
   "outputs": [],
   "source": [
    "import pandas as pd\n",
    "X=pd.DataFrame({'x1':x1,'x2':x2},index=sn);\n",
    "print(X)"
   ]
  },
  {
   "cell_type": "code",
   "execution_count": null,
   "metadata": {},
   "outputs": [],
   "source": [
    "from scipy.spatial.distance import pdist,squareform\n",
    "Da1=pdist(X).round(3); Da1  #euclidean距离向量\n",
    "print(Da1) "
   ]
  },
  {
   "cell_type": "code",
   "execution_count": null,
   "metadata": {},
   "outputs": [],
   "source": [
    "Ds1=squareform(Da1);        #euclidean距离方阵\n",
    "(pd.DataFrame(Ds1,index=X.index,columns=X.index))"
   ]
  },
  {
   "cell_type": "code",
   "execution_count": null,
   "metadata": {},
   "outputs": [],
   "source": [
    "Da2=pdist(X,'cityblock');Da2    #cityblock距离向量"
   ]
  },
  {
   "cell_type": "code",
   "execution_count": null,
   "metadata": {},
   "outputs": [],
   "source": [
    "Ds2=squareform(Da2);           #cityblock距离方阵\n",
    "print(pd.DataFrame(Ds2,index=X.index,columns=X.index))"
   ]
  },
  {
   "cell_type": "markdown",
   "metadata": {},
   "source": [
    "## 4.3系统聚类法"
   ]
  },
  {
   "cell_type": "markdown",
   "metadata": {},
   "source": [
    "### 4.3.1 系统聚类法的基本思想与方法"
   ]
  },
  {
   "cell_type": "markdown",
   "metadata": {},
   "source": [
    "### 4.3.2 系统聚类法的基本步骤"
   ]
  },
  {
   "cell_type": "markdown",
   "metadata": {},
   "source": [
    "### 4.3.3 聚类分析实例分析"
   ]
  },
  {
   "cell_type": "code",
   "execution_count": null,
   "metadata": {},
   "outputs": [],
   "source": [
    "import scipy.cluster.hierarchy as sch\n",
    "Hs=sch.linkage(Da1,method='single');  #最短距离法系统聚类\n",
    "#pd.DataFrame({'类(i)':H1[:,0]+1,'类(j)':H1[:,1]+1,'距离':H1[:,2],'新类':H1[:,3]})"
   ]
  },
  {
   "cell_type": "code",
   "execution_count": null,
   "metadata": {},
   "outputs": [],
   "source": [
    "print(pd.DataFrame(sch.cut_tree(Hs)+1,index=X.index,columns=X.index)) #聚类过程"
   ]
  },
  {
   "cell_type": "code",
   "execution_count": null,
   "metadata": {},
   "outputs": [],
   "source": [
    "sch.dendrogram(Hs,labels=X.index);   #最短距离法系统聚类图"
   ]
  },
  {
   "cell_type": "code",
   "execution_count": null,
   "metadata": {},
   "outputs": [],
   "source": [
    "Hc=sch.linkage(Da1,method='complete');  #最长距离法系统聚类"
   ]
  },
  {
   "cell_type": "code",
   "execution_count": null,
   "metadata": {},
   "outputs": [],
   "source": [
    "print(pd.DataFrame(sch.cut_tree(Hc)+1,index=X.index,columns=X.index)) #聚类过程"
   ]
  },
  {
   "cell_type": "code",
   "execution_count": null,
   "metadata": {},
   "outputs": [],
   "source": [
    "sch.dendrogram(Hc,labels=X.index);   #最长距离法系统聚类图"
   ]
  },
  {
   "cell_type": "code",
   "execution_count": null,
   "metadata": {},
   "outputs": [],
   "source": [
    "sch.dendrogram(Hc,labels=X.index,orientation='right');"
   ]
  },
  {
   "cell_type": "code",
   "execution_count": null,
   "metadata": {
    "scrolled": true
   },
   "outputs": [],
   "source": [
    "import pandas as pd\n",
    "d31=pd.read_excel('mvsData.xlsx','d31',index_col=0);d31"
   ]
  },
  {
   "cell_type": "code",
   "execution_count": null,
   "metadata": {},
   "outputs": [],
   "source": [
    "%config InlineBackend.figure_format='retina' #图片清晰\n",
    "plt.rcParams['font.sans-serif']=['SimHei'];  #SimHei黑体\n",
    "plt.figure(figsize=(9,5));\n",
    "#pd.plotting.scatter_matrix(d4_1);"
   ]
  },
  {
   "cell_type": "code",
   "execution_count": null,
   "metadata": {},
   "outputs": [],
   "source": [
    "import scipy.cluster.hierarchy as sch\n",
    "D=sch.distance.pdist(d31); D[:10].round(1)"
   ]
  },
  {
   "cell_type": "code",
   "execution_count": null,
   "metadata": {},
   "outputs": [],
   "source": [
    "plt.rcParams['font.sans-serif']=['SimHei']  #SimHei黑体\n",
    "plt.figure(figsize=(9,5))\n",
    "H1=sch.linkage(D,method='single');   #最短距离法\n",
    "sch.dendrogram(H1,labels=d31.index);"
   ]
  },
  {
   "cell_type": "code",
   "execution_count": null,
   "metadata": {
    "tags": []
   },
   "outputs": [],
   "source": [
    "H2=sch.linkage(D,method='complete'); #最长距离法\n",
    "plt.figure(figsize=(9,5))\n",
    "sch.dendrogram(H2,labels=d31.index);"
   ]
  },
  {
   "cell_type": "code",
   "execution_count": null,
   "metadata": {
    "tags": []
   },
   "outputs": [],
   "source": [
    "H3=sch.linkage(D,method='median');     #中间距离法\n",
    "plt.figure(figsize=(9,5))\n",
    "sch.dendrogram(H3,labels=d31.index);"
   ]
  },
  {
   "cell_type": "code",
   "execution_count": null,
   "metadata": {},
   "outputs": [],
   "source": [
    "H4=sch.linkage(D,method='average');       #类平均法\n",
    "plt.figure(figsize=(9,5))\n",
    "sch.dendrogram(H4,labels=d31.index);"
   ]
  },
  {
   "cell_type": "code",
   "execution_count": null,
   "metadata": {},
   "outputs": [],
   "source": [
    "H5=sch.linkage(D,method='centroid');      #重心法\n",
    "plt.figure(figsize=(9,5))\n",
    "sch.dendrogram(H5,labels=d31.index);"
   ]
  },
  {
   "cell_type": "code",
   "execution_count": null,
   "metadata": {},
   "outputs": [],
   "source": [
    "H6=sch.linkage(D,method='ward');      #ward法\n",
    "plt.figure(figsize=(9,5))\n",
    "sch.dendrogram(H6,labels=d31.index);"
   ]
  },
  {
   "cell_type": "code",
   "execution_count": null,
   "metadata": {},
   "outputs": [],
   "source": [
    "plt.figure(figsize=(7,7))\n",
    "sch.dendrogram(H6,labels=d31.index,orientation='right');"
   ]
  },
  {
   "cell_type": "code",
   "execution_count": null,
   "metadata": {},
   "outputs": [],
   "source": [
    "sch6=pd.DataFrame(sch.cut_tree(H6))[[29,28,27]]+1\n",
    "sch6.index=d31.index;sch6.columns=['分2类','分3类','分4类']\n",
    "print(sch6)"
   ]
  },
  {
   "cell_type": "code",
   "execution_count": null,
   "metadata": {},
   "outputs": [],
   "source": [
    "sch6[sch6.分4类==1]['分4类']"
   ]
  },
  {
   "cell_type": "code",
   "execution_count": null,
   "metadata": {},
   "outputs": [],
   "source": [
    "sch6[sch6.分4类==2]['分4类']"
   ]
  },
  {
   "cell_type": "code",
   "execution_count": null,
   "metadata": {},
   "outputs": [],
   "source": [
    "sch6[sch6.分4类==3]['分4类']"
   ]
  },
  {
   "cell_type": "code",
   "execution_count": null,
   "metadata": {},
   "outputs": [],
   "source": [
    "sch6[sch6.分4类==4]['分4类']"
   ]
  },
  {
   "cell_type": "markdown",
   "metadata": {},
   "source": [
    "## 4.4快速聚类法"
   ]
  },
  {
   "cell_type": "markdown",
   "metadata": {},
   "source": [
    "### 4.4.1 快速聚类基本概念"
   ]
  },
  {
   "cell_type": "markdown",
   "metadata": {},
   "source": [
    "### 4.4.2 快速聚类计算原理"
   ]
  },
  {
   "cell_type": "markdown",
   "metadata": {},
   "source": [
    "### 4.4.3 快速聚类的模拟研究"
   ]
  },
  {
   "cell_type": "code",
   "execution_count": null,
   "metadata": {},
   "outputs": [],
   "source": [
    "import numpy as np\n",
    "np.random.seed(123)    #设置种子数使结果可重复\n",
    "x1=np.random.normal(0,0.3,1000).reshape((100,10))\n",
    "x2=np.random.normal(1,0.3,1000).reshape((100,10))\n",
    "X=np.append(x1,x2,axis=0);X.round(4)"
   ]
  },
  {
   "cell_type": "code",
   "execution_count": null,
   "metadata": {},
   "outputs": [],
   "source": [
    "D=pdist(X);"
   ]
  },
  {
   "cell_type": "code",
   "execution_count": null,
   "metadata": {},
   "outputs": [],
   "source": [
    "H=sch.linkage(D);\n",
    "sch.dendrogram(H);"
   ]
  },
  {
   "cell_type": "code",
   "execution_count": null,
   "metadata": {},
   "outputs": [],
   "source": [
    "Clust=pd.DataFrame(sch.cut_tree(H))[198]+1  #分两类情形\n",
    "print(Clust)\n",
    "Clust.value_counts()   #聚类结果"
   ]
  },
  {
   "cell_type": "code",
   "execution_count": null,
   "metadata": {},
   "outputs": [],
   "source": [
    "from sklearn.cluster import KMeans\n",
    "Xkm=KMeans(n_clusters=2).fit(X)\n",
    "Xkm.predict(X)      #分类结果"
   ]
  },
  {
   "cell_type": "code",
   "execution_count": null,
   "metadata": {},
   "outputs": [],
   "source": [
    "plt.rcParams['axes.unicode_minus']=False;    #正常显示图中正负号\n",
    "plt.scatter(X[:,0],X[:,1],c=Xkm.predict(X));  #分类图"
   ]
  },
  {
   "cell_type": "code",
   "execution_count": null,
   "metadata": {},
   "outputs": [],
   "source": [
    "np.random.seed(123)    #设置种子数使结果可重复\n",
    "x3=np.random.normal(0,0.2,10000).reshape((1000,10))\n",
    "x4=np.random.normal(1,0.2,10000).reshape((1000,10))\n",
    "Y=np.append(x3,x4,axis=0)"
   ]
  },
  {
   "cell_type": "code",
   "execution_count": null,
   "metadata": {},
   "outputs": [],
   "source": [
    "Ykm=KMeans(n_clusters=2).fit(Y)\n",
    "Ykm.predict(Y)"
   ]
  },
  {
   "cell_type": "code",
   "execution_count": null,
   "metadata": {},
   "outputs": [],
   "source": [
    "plt.scatter(Y[:,0],Y[:,1],c=Ykm.predict(Y),marker='x');"
   ]
  },
  {
   "cell_type": "markdown",
   "metadata": {},
   "source": [
    "## 4.5 聚类分析注意的问题"
   ]
  },
  {
   "cell_type": "markdown",
   "metadata": {},
   "source": [
    "## 案例四"
   ]
  },
  {
   "cell_type": "code",
   "execution_count": null,
   "metadata": {
    "scrolled": true
   },
   "outputs": [],
   "source": [
    "Case4=pd.read_excel('mvsCase.xlsx','Case4',index_col=0);Case4"
   ]
  },
  {
   "cell_type": "code",
   "execution_count": null,
   "metadata": {},
   "outputs": [],
   "source": [
    "import scipy.cluster.hierarchy as sch\n",
    "Case4_D=sch.distance.pdist(Case4)\n",
    "Case4_H=sch.linkage(Case4_D,method='ward');\n",
    "plt.figure(figsize=(9,5))\n",
    "sch.dendrogram(Case4_H,labels=Case4.index);"
   ]
  },
  {
   "cell_type": "code",
   "execution_count": null,
   "metadata": {},
   "outputs": [],
   "source": [
    "plt.figure(figsize=(7,7))\n",
    "sch.dendrogram(Case4_H,labels=Case4.index,orientation='right');"
   ]
  },
  {
   "cell_type": "code",
   "execution_count": null,
   "metadata": {},
   "outputs": [],
   "source": [
    "Case4_T=pd.DataFrame(sch.cut_tree(Case4_H))[26]+1\n",
    "Case4_T.index=Case4.index;\n",
    "print(Case4_T[Case4_T==1])\n",
    "print(Case4_T[Case4_T==2])\n",
    "print(Case4_T[Case4_T==3])\n",
    "print(Case4_T[Case4_T==4])"
   ]
  },
  {
   "cell_type": "code",
   "execution_count": null,
   "metadata": {},
   "outputs": [],
   "source": [
    "from sklearn.cluster import KMeans\n",
    "Case4_KM=KMeans(n_clusters=4).fit(Case4).predict(Case4)\n",
    "print(Case4_KM+1)"
   ]
  },
  {
   "cell_type": "code",
   "execution_count": null,
   "metadata": {},
   "outputs": [],
   "source": [
    "Case4_class=pd.DataFrame({'类别':Case4_KM+1},index=Case4.index)\n",
    "print(Case4_class[Case4_class.类别==1])\n",
    "print(Case4_class[Case4_class.类别==2])\n",
    "print(Case4_class[Case4_class.类别==3])\n",
    "print(Case4_class[Case4_class.类别==4])"
   ]
  },
  {
   "cell_type": "code",
   "execution_count": null,
   "metadata": {},
   "outputs": [],
   "source": []
  }
 ],
 "metadata": {
  "kernelspec": {
   "display_name": "Python 3 (ipykernel)",
   "language": "python",
   "name": "python3"
  },
  "language_info": {
   "codemirror_mode": {
    "name": "ipython",
    "version": 3
   },
   "file_extension": ".py",
   "mimetype": "text/x-python",
   "name": "python",
   "nbconvert_exporter": "python",
   "pygments_lexer": "ipython3",
   "version": "3.9.7"
  },
  "toc": {
   "base_numbering": 1,
   "nav_menu": {
    "height": "159.986px",
    "width": "173.991px"
   },
   "number_sections": true,
   "sideBar": true,
   "skip_h1_title": false,
   "title_cell": "Table of Contents",
   "title_sidebar": "Contents",
   "toc_cell": false,
   "toc_position": {
    "height": "calc(100% - 180px)",
    "left": "10px",
    "top": "150px",
    "width": "349.446px"
   },
   "toc_section_display": true,
   "toc_window_display": false
  }
 },
 "nbformat": 4,
 "nbformat_minor": 4
}
